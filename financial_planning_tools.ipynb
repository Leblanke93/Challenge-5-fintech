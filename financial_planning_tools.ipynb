{
 "cells": [
  {
   "cell_type": "markdown",
   "metadata": {},
   "source": [
    "# Financial Planning with APIs and Simulations\n",
    "\n",
    "In this Challenge, you’ll create two financial analysis tools by using a single Jupyter notebook:\n",
    "\n",
    "Part 1: A financial planner for emergencies. The members will be able to use this tool to visualize their current savings. The members can then determine if they have enough reserves for an emergency fund.\n",
    "\n",
    "Part 2: A financial planner for retirement. This tool will forecast the performance of their retirement portfolio in 30 years. To do this, the tool will make an Alpaca API call via the Alpaca SDK to get historical price data for use in Monte Carlo simulations.\n",
    "\n",
    "You’ll use the information from the Monte Carlo simulation to answer questions about the portfolio in your Jupyter notebook.\n",
    "\n"
   ]
  },
  {
   "cell_type": "code",
   "execution_count": 113,
   "metadata": {},
   "outputs": [],
   "source": [
    "# Import the required libraries and dependencies\n",
    "import os\n",
    "import requests\n",
    "import json\n",
    "import pandas as pd\n",
    "from dotenv import load_dotenv\n",
    "import alpaca_trade_api as tradeapi\n",
    "from MCForecastTools import MCSimulation\n",
    "import numpy as np\n",
    "\n",
    "%matplotlib inline"
   ]
  },
  {
   "cell_type": "code",
   "execution_count": 114,
   "metadata": {},
   "outputs": [
    {
     "data": {
      "text/plain": [
       "True"
      ]
     },
     "execution_count": 114,
     "metadata": {},
     "output_type": "execute_result"
    }
   ],
   "source": [
    "# Load the environment variables from the .env file\n",
    "#by calling the load_dotenv function\n",
    "load_dotenv()"
   ]
  },
  {
   "cell_type": "markdown",
   "metadata": {},
   "source": [
    "## Part 1: Create a Financial Planner for Emergencies"
   ]
  },
  {
   "cell_type": "markdown",
   "metadata": {},
   "source": [
    "### Evaluate the Cryptocurrency Wallet by Using the Requests Library\n",
    "\n",
    "In this section, you’ll determine the current value of a member’s cryptocurrency wallet. You’ll collect the current prices for the Bitcoin and Ethereum cryptocurrencies by using the Python Requests library. For the prototype, you’ll assume that the member holds the 1.2 Bitcoins (BTC) and 5.3 Ethereum coins (ETH). To do all this, complete the following steps:\n",
    "\n",
    "1. Create a variable named `monthly_income`, and set its value to `12000`.\n",
    "\n",
    "2. Use the Requests library to get the current price (in US dollars) of Bitcoin (BTC) and Ethereum (ETH) by using the API endpoints that the starter code supplies.\n",
    "\n",
    "3. Navigate the JSON response object to access the current price of each coin, and store each in a variable.\n",
    "\n",
    "    > **Hint** Note the specific identifier for each cryptocurrency in the API JSON response. The Bitcoin identifier is `1`, and the Ethereum identifier is `1027`.\n",
    "\n",
    "4. Calculate the value, in US dollars, of the current amount of each cryptocurrency and of the entire cryptocurrency wallet.\n",
    "\n"
   ]
  },
  {
   "cell_type": "code",
   "execution_count": 115,
   "metadata": {},
   "outputs": [],
   "source": [
    "# The current number of coins for each cryptocurrency asset held in the portfolio.\n",
    "btc_coins = 1.2\n",
    "eth_coins = 5.3"
   ]
  },
  {
   "cell_type": "markdown",
   "metadata": {},
   "source": [
    "#### Step 1: Create a variable named `monthly_income`, and set its value to `12000`."
   ]
  },
  {
   "cell_type": "code",
   "execution_count": 116,
   "metadata": {},
   "outputs": [],
   "source": [
    "# The monthly amount for the member's household income\n",
    "monthly_income = 12000\n"
   ]
  },
  {
   "cell_type": "markdown",
   "metadata": {},
   "source": [
    "#### Review the endpoint URLs for the API calls to Free Crypto API in order to get the current pricing information for both BTC and ETH."
   ]
  },
  {
   "cell_type": "code",
   "execution_count": 117,
   "metadata": {},
   "outputs": [],
   "source": [
    "# The Free Crypto API Call endpoint URLs for the held cryptocurrency assets\n",
    "btc_url = \"https://api.alternative.me/v2/ticker/Bitcoin/?convert=USD\"\n",
    "eth_url = \"https://api.alternative.me/v2/ticker/Ethereum/?convert=USD\""
   ]
  },
  {
   "cell_type": "markdown",
   "metadata": {},
   "source": [
    "#### Step 2. Use the Requests library to get the current price (in US dollars) of Bitcoin (BTC) and Ethereum (ETH) by using the API endpoints that the starter code supplied."
   ]
  },
  {
   "cell_type": "code",
   "execution_count": 118,
   "metadata": {},
   "outputs": [
    {
     "name": "stdout",
     "output_type": "stream",
     "text": [
      "{\n",
      "   \"data\": {\n",
      "      \"1\": {\n",
      "         \"id\": 1,\n",
      "         \"name\": \"Bitcoin\",\n",
      "         \"symbol\": \"BTC\",\n",
      "         \"website_slug\": \"bitcoin\",\n",
      "         \"rank\": 1,\n",
      "         \"circulating_supply\": 18876406,\n",
      "         \"total_supply\": 18876406,\n",
      "         \"max_supply\": 21000000,\n",
      "         \"quotes\": {\n",
      "            \"USD\": {\n",
      "               \"price\": 60341.0,\n",
      "               \"volume_24h\": 37804090850,\n",
      "               \"market_cap\": 1139534333702,\n",
      "               \"percentage_change_1h\": -0.786489100538156,\n",
      "               \"percentage_change_24h\": 1.25589853733718,\n",
      "               \"percentage_change_7d\": -7.25460683556062,\n",
      "               \"percent_change_1h\": -0.786489100538156,\n",
      "               \"percent_change_24h\": 1.25589853733718,\n",
      "               \"percent_change_7d\": -7.25460683556062\n",
      "            }\n",
      "         },\n",
      "         \"last_updated\": 1637206762\n",
      "      }\n",
      "   },\n",
      "   \"metadata\": {\n",
      "      \"timestamp\": 1637206762,\n",
      "      \"num_cryptocurrencies\": 3105,\n",
      "      \"error\": null\n",
      "   }\n",
      "}\n"
     ]
    }
   ],
   "source": [
    "# Using the Python requests library, make an API call to access the current price of BTC\n",
    "btc_response = requests.get(btc_url).json()\n",
    "\n",
    "# Use the json.dumps function to review the response data from the API call\n",
    "# Use the indent and sort_keys parameters to make the response object readable\n",
    "print(json.dumps(btc_response, indent=3))\n"
   ]
  },
  {
   "cell_type": "code",
   "execution_count": 119,
   "metadata": {},
   "outputs": [
    {
     "name": "stdout",
     "output_type": "stream",
     "text": [
      "{\n",
      "   \"data\": {\n",
      "      \"1027\": {\n",
      "         \"id\": 1027,\n",
      "         \"name\": \"Ethereum\",\n",
      "         \"symbol\": \"ETH\",\n",
      "         \"website_slug\": \"ethereum\",\n",
      "         \"rank\": 2,\n",
      "         \"circulating_supply\": 118386097,\n",
      "         \"total_supply\": 118386097,\n",
      "         \"max_supply\": 0,\n",
      "         \"quotes\": {\n",
      "            \"USD\": {\n",
      "               \"price\": 4315.44,\n",
      "               \"volume_24h\": 21898267164,\n",
      "               \"market_cap\": 511309407476,\n",
      "               \"percentage_change_1h\": -0.253385586232371,\n",
      "               \"percentage_change_24h\": 3.66563694871738,\n",
      "               \"percentage_change_7d\": -7.0255558103833,\n",
      "               \"percent_change_1h\": -0.253385586232371,\n",
      "               \"percent_change_24h\": 3.66563694871738,\n",
      "               \"percent_change_7d\": -7.0255558103833\n",
      "            }\n",
      "         },\n",
      "         \"last_updated\": 1637206665\n",
      "      }\n",
      "   },\n",
      "   \"metadata\": {\n",
      "      \"timestamp\": 1637206665,\n",
      "      \"num_cryptocurrencies\": 3105,\n",
      "      \"error\": null\n",
      "   }\n",
      "}\n"
     ]
    }
   ],
   "source": [
    "# Using the Python requests library, make an API call to access the current price ETH\n",
    "eth_response = requests.get(eth_url).json()\n",
    "\n",
    "# Use the json.dumps function to review the response data from the API call\n",
    "# Use the indent and sort_keys parameters to make the response object readable\n",
    "print(json.dumps(eth_response, indent=3))\n"
   ]
  },
  {
   "cell_type": "markdown",
   "metadata": {},
   "source": [
    "#### Step 3: Navigate the JSON response object to access the current price of each coin, and store each in a variable."
   ]
  },
  {
   "cell_type": "code",
   "execution_count": 142,
   "metadata": {},
   "outputs": [
    {
     "name": "stdout",
     "output_type": "stream",
     "text": [
      "bitcoin price is 60341.0\n"
     ]
    }
   ],
   "source": [
    "# Navigate the BTC response object to access the current price of BTC\n",
    "btc_price = btc_response[\"data\"][\"1\"][\"quotes\"][\"USD\"][\"price\"]\n",
    "\n",
    "# Print the current price of BTC\n",
    "print(f\"bitcoin price is {btc_price}\")\n"
   ]
  },
  {
   "cell_type": "code",
   "execution_count": 146,
   "metadata": {},
   "outputs": [
    {
     "name": "stdout",
     "output_type": "stream",
     "text": [
      "Ethereum price is 4315.44\n"
     ]
    }
   ],
   "source": [
    "# Navigate the ETH response object to access the current price of ETH\n",
    "eth_price = eth_response[\"data\"][\"1027\"][\"quotes\"][\"USD\"][\"price\"]\n",
    "\n",
    "# Print the current price of ETH\n",
    "print(f'Ethereum price is {eth_price}')\n"
   ]
  },
  {
   "cell_type": "markdown",
   "metadata": {},
   "source": [
    "### Step 4: Calculate the value, in US dollars, of the current amount of each cryptocurrency and of the entire cryptocurrency wallet."
   ]
  },
  {
   "cell_type": "code",
   "execution_count": 148,
   "metadata": {},
   "outputs": [
    {
     "name": "stdout",
     "output_type": "stream",
     "text": [
      " bitcoin value is 72409.2\n"
     ]
    }
   ],
   "source": [
    "# Compute the current value of the BTC holding \n",
    "btc_value = btc_coins * btc_price\n",
    "\n",
    "# Print current value of your holding in BTC\n",
    "print(f' bitcoin value is {btc_value}')\n"
   ]
  },
  {
   "cell_type": "code",
   "execution_count": 149,
   "metadata": {},
   "outputs": [
    {
     "name": "stdout",
     "output_type": "stream",
     "text": [
      "the ethereum value is22871.832\n"
     ]
    }
   ],
   "source": [
    "# Compute the current value of the ETH holding \n",
    "eth_value = eth_coins * eth_price\n",
    "\n",
    "# Print current value of your holding in ETH\n",
    "print(f'the ethereum value is{eth_value}')\n"
   ]
  },
  {
   "cell_type": "code",
   "execution_count": 150,
   "metadata": {},
   "outputs": [
    {
     "name": "stdout",
     "output_type": "stream",
     "text": [
      " the total of the crypto wallet is 95281.03199999999\n"
     ]
    }
   ],
   "source": [
    "# Compute the total value of the cryptocurrency wallet\n",
    "# Add the value of the BTC holding to the value of the ETH holding\n",
    "total_crypto_wallet = btc_value + eth_value\n",
    "\n",
    "# Print current cryptocurrency wallet balance\n",
    "print(f' the total of the crypto wallet is {total_crypto_wallet}')\n"
   ]
  },
  {
   "cell_type": "markdown",
   "metadata": {},
   "source": [
    "### Evaluate the Stock and Bond Holdings by Using the Alpaca SDK\n",
    "\n",
    "In this section, you’ll determine the current value of a member’s stock and bond holdings. You’ll make an API call to Alpaca via the Alpaca SDK to get the current closing prices of the SPDR S&P 500 ETF Trust (ticker: SPY) and of the iShares Core US Aggregate Bond ETF (ticker: AGG). For the prototype, assume that the member holds 110 shares of SPY, which represents the stock portion of their portfolio, and 200 shares of AGG, which represents the bond portion. To do all this, complete the following steps:\n",
    "\n",
    "1. In the `Starter_Code` folder, create an environment file (`.env`) to store the values of your Alpaca API key and Alpaca secret key.\n",
    "\n",
    "2. Set the variables for the Alpaca API and secret keys. Using the Alpaca SDK, create the Alpaca `tradeapi.REST` object. In this object, include the parameters for the Alpaca API key, the secret key, and the version number.\n",
    "\n",
    "3. Set the following parameters for the Alpaca API call:\n",
    "\n",
    "    - `tickers`: Use the tickers for the member’s stock and bond holdings.\n",
    "\n",
    "    - `timeframe`: Use a time frame of one day.\n",
    "\n",
    "    - `start_date` and `end_date`: Use the same date for these parameters, and format them with the date of the previous weekday (or `2020-08-07`). This is because you want the one closing price for the most-recent trading day.\n",
    "\n",
    "4. Get the current closing prices for `SPY` and `AGG` by using the Alpaca `get_barset` function. Format the response as a Pandas DataFrame by including the `df` property at the end of the `get_barset` function.\n",
    "\n",
    "5. Navigating the Alpaca response DataFrame, select the `SPY` and `AGG` closing prices, and store them as variables.\n",
    "\n",
    "6. Calculate the value, in US dollars, of the current amount of shares in each of the stock and bond portions of the portfolio, and print the results.\n"
   ]
  },
  {
   "cell_type": "markdown",
   "metadata": {},
   "source": [
    "#### Review the total number of shares held in both (SPY) and (AGG)."
   ]
  },
  {
   "cell_type": "code",
   "execution_count": 151,
   "metadata": {},
   "outputs": [],
   "source": [
    "# Current amount of shares held in both the stock (SPY) and bond (AGG) portion of the portfolio.\n",
    "spy_shares = 110\n",
    "agg_shares = 200\n"
   ]
  },
  {
   "cell_type": "markdown",
   "metadata": {},
   "source": [
    "#### Step 1: In the `Starter_Code` folder, create an environment file (`.env`) to store the values of your Alpaca API key and Alpaca secret key."
   ]
  },
  {
   "cell_type": "markdown",
   "metadata": {},
   "source": [
    "#### Step 2: Set the variables for the Alpaca API and secret keys. Using the Alpaca SDK, create the Alpaca `tradeapi.REST` object. In this object, include the parameters for the Alpaca API key, the secret key, and the version number."
   ]
  },
  {
   "cell_type": "code",
   "execution_count": 152,
   "metadata": {},
   "outputs": [],
   "source": [
    "# Set the variables for the Alpaca API and secret keys\n",
    "alpaca_api_key = os.getenv(\"APCA-API-KEY-ID\")\n",
    "alpaca_secret_key = os.getenv(\"APCA-API-SECRET-KEY\")\n",
    "\n",
    "# Create the Alpaca tradeapi.REST object\n",
    "alpaca = tradeapi.REST(alpaca_api_key, alpaca_secret_key, api_version='v2')\n"
   ]
  },
  {
   "cell_type": "markdown",
   "metadata": {},
   "source": [
    "#### Step 3: Set the following parameters for the Alpaca API call:\n",
    "\n",
    "- `tickers`: Use the tickers for the member’s stock and bond holdings.\n",
    "\n",
    "- `timeframe`: Use a time frame of one day.\n",
    "\n",
    "- `start_date` and `end_date`: Use the same date for these parameters, and format them with the date of the previous weekday (or `2020-08-07`). This is because you want the one closing price for the most-recent trading day.\n"
   ]
  },
  {
   "cell_type": "code",
   "execution_count": 153,
   "metadata": {},
   "outputs": [],
   "source": [
    "# Set the tickers for both the bond and stock portion of the portfolio\n",
    "tickers =[\"SPY\", \"AGG\"]\n",
    "\n",
    "# Set timeframe to 1D \n",
    "timeframe = \"1D\"\n",
    "\n",
    "# Format current date as ISO format\n",
    "# Set both the start and end date at the date of your prior weekday \n",
    "# This will give you the closing price of the previous trading day\n",
    "# Alternatively you can use a start and end date of 2020-08-07\n",
    "start_date = pd.Timestamp(\"2021-11-17\", tz=\"America/New_York\").isoformat()\n",
    "end_date = pd.Timestamp(\"2021-11-17\", tz=\"America/New_York\").isoformat()\n"
   ]
  },
  {
   "cell_type": "markdown",
   "metadata": {},
   "source": [
    "#### Step 4: Get the current closing prices for `SPY` and `AGG` by using the Alpaca `get_barset` function. Format the response as a Pandas DataFrame by including the `df` property at the end of the `get_barset` function."
   ]
  },
  {
   "cell_type": "code",
   "execution_count": 154,
   "metadata": {},
   "outputs": [
    {
     "data": {
      "text/html": [
       "<div>\n",
       "<style scoped>\n",
       "    .dataframe tbody tr th:only-of-type {\n",
       "        vertical-align: middle;\n",
       "    }\n",
       "\n",
       "    .dataframe tbody tr th {\n",
       "        vertical-align: top;\n",
       "    }\n",
       "\n",
       "    .dataframe thead tr th {\n",
       "        text-align: left;\n",
       "    }\n",
       "\n",
       "    .dataframe thead tr:last-of-type th {\n",
       "        text-align: right;\n",
       "    }\n",
       "</style>\n",
       "<table border=\"1\" class=\"dataframe\">\n",
       "  <thead>\n",
       "    <tr>\n",
       "      <th></th>\n",
       "      <th colspan=\"5\" halign=\"left\">AGG</th>\n",
       "      <th colspan=\"5\" halign=\"left\">SPY</th>\n",
       "    </tr>\n",
       "    <tr>\n",
       "      <th></th>\n",
       "      <th>open</th>\n",
       "      <th>high</th>\n",
       "      <th>low</th>\n",
       "      <th>close</th>\n",
       "      <th>volume</th>\n",
       "      <th>open</th>\n",
       "      <th>high</th>\n",
       "      <th>low</th>\n",
       "      <th>close</th>\n",
       "      <th>volume</th>\n",
       "    </tr>\n",
       "    <tr>\n",
       "      <th>time</th>\n",
       "      <th></th>\n",
       "      <th></th>\n",
       "      <th></th>\n",
       "      <th></th>\n",
       "      <th></th>\n",
       "      <th></th>\n",
       "      <th></th>\n",
       "      <th></th>\n",
       "      <th></th>\n",
       "      <th></th>\n",
       "    </tr>\n",
       "  </thead>\n",
       "  <tbody>\n",
       "    <tr>\n",
       "      <th>2021-11-17 00:00:00-05:00</th>\n",
       "      <td>113.79</td>\n",
       "      <td>114.13</td>\n",
       "      <td>113.77</td>\n",
       "      <td>114.13</td>\n",
       "      <td>5513227</td>\n",
       "      <td>469</td>\n",
       "      <td>469.19</td>\n",
       "      <td>467.48</td>\n",
       "      <td>468.11</td>\n",
       "      <td>40088372</td>\n",
       "    </tr>\n",
       "  </tbody>\n",
       "</table>\n",
       "</div>"
      ],
      "text/plain": [
       "                              AGG                                   SPY  \\\n",
       "                             open    high     low   close   volume open   \n",
       "time                                                                      \n",
       "2021-11-17 00:00:00-05:00  113.79  114.13  113.77  114.13  5513227  469   \n",
       "\n",
       "                                                             \n",
       "                             high     low   close    volume  \n",
       "time                                                         \n",
       "2021-11-17 00:00:00-05:00  469.19  467.48  468.11  40088372  "
      ]
     },
     "execution_count": 154,
     "metadata": {},
     "output_type": "execute_result"
    }
   ],
   "source": [
    "# Use the Alpaca get_barset function to get current closing prices the portfolio\n",
    "# Be sure to set the `df` property after the function to format the response object as a DataFrame\n",
    "df_ticker = alpaca.get_barset(\n",
    "    tickers,\n",
    "    timeframe,\n",
    "    start=start_date,\n",
    "    end=end_date,\n",
    ").df\n",
    "# Review the first 5 rows of the Alpaca DataFrame\n",
    "\n",
    "df_ticker.head()"
   ]
  },
  {
   "cell_type": "markdown",
   "metadata": {},
   "source": [
    "#### Step 5: Navigating the Alpaca response DataFrame, select the `SPY` and `AGG` closing prices, and store them as variables."
   ]
  },
  {
   "cell_type": "code",
   "execution_count": 168,
   "metadata": {},
   "outputs": [
    {
     "name": "stdout",
     "output_type": "stream",
     "text": [
      "the closing price of AGG is 114.12\n"
     ]
    }
   ],
   "source": [
    "# Access the closing price for AGG from the Alpaca DataFrame\n",
    "# Converting the value to a floating point number\n",
    "agg_close_price = df_ticker[\"AGG\"][\"close\"][0].astype(np.float16)\n",
    "\n",
    "\n",
    "# Print the AGG closing price\n",
    "print(f'the closing price of AGG is {agg_close_price:,.2f}')\n"
   ]
  },
  {
   "cell_type": "code",
   "execution_count": 169,
   "metadata": {},
   "outputs": [
    {
     "name": "stdout",
     "output_type": "stream",
     "text": [
      "the closing price of SPY is 468.00\n"
     ]
    }
   ],
   "source": [
    "# Access the closing price for SPY from the Alpaca DataFrame\n",
    "# Converting the value to a floating point number\n",
    "spy_close_price = df_ticker[\"SPY\"]['close'][0].astype(np.float16)\n",
    "\n",
    "\n",
    "# Print the SPY closing price\n",
    "print(f'the closing price of SPY is {spy_close_price:,.2f}')\n"
   ]
  },
  {
   "cell_type": "markdown",
   "metadata": {},
   "source": [
    "#### Step 6: Calculate the value, in US dollars, of the current amount of shares in each of the stock and bond portions of the portfolio, and print the results."
   ]
  },
  {
   "cell_type": "code",
   "execution_count": 170,
   "metadata": {},
   "outputs": [
    {
     "name": "stdout",
     "output_type": "stream",
     "text": [
      "the value of AGG is 22,825.00\n"
     ]
    }
   ],
   "source": [
    "# Calculate the current value of the bond portion of the portfolio\n",
    "agg_value = agg_shares * agg_close_price\n",
    "\n",
    "# Print the current value of the bond portfolio\n",
    "print(f'the value of AGG is {agg_value:,.2f}')\n"
   ]
  },
  {
   "cell_type": "code",
   "execution_count": 171,
   "metadata": {},
   "outputs": [
    {
     "name": "stdout",
     "output_type": "stream",
     "text": [
      "the value of SPY is 51,480.00\n"
     ]
    }
   ],
   "source": [
    "# Calculate the current value of the stock portion of the portfolio\n",
    "spy_value = spy_shares * spy_close_price\n",
    "\n",
    "# Print the current value of the stock portfolio\n",
    "print(f'the value of SPY is {spy_value:,.2f}')\n"
   ]
  },
  {
   "cell_type": "code",
   "execution_count": 172,
   "metadata": {},
   "outputs": [
    {
     "name": "stdout",
     "output_type": "stream",
     "text": [
      "the total value of the stocks and bonds is 74,305.00\n"
     ]
    }
   ],
   "source": [
    "# Calculate the total value of the stock and bond portion of the portfolio\n",
    "total_stocks_bonds = agg_value + spy_value\n",
    "\n",
    "# Print the current balance of the stock and bond portion of the portfolio\n",
    "print(f'the total value of the stocks and bonds is {total_stocks_bonds:,.2f}')\n"
   ]
  },
  {
   "cell_type": "code",
   "execution_count": 173,
   "metadata": {},
   "outputs": [
    {
     "name": "stdout",
     "output_type": "stream",
     "text": [
      "the value of the Portfolio is 169,586.03\n"
     ]
    }
   ],
   "source": [
    "# Calculate the total value of the member's entire savings portfolio\n",
    "# Add the value of the cryptocurrency walled to the value of the total stocks and bonds\n",
    "total_portfolio = total_crypto_wallet + total_stocks_bonds\n",
    "\n",
    "# Print current cryptocurrency wallet balance\n",
    "print(f'the value of the Portfolio is {total_portfolio:,.2f}')\n"
   ]
  },
  {
   "cell_type": "markdown",
   "metadata": {},
   "source": [
    "### Evaluate the Emergency Fund\n",
    "\n",
    "In this section, you’ll use the valuations for the cryptocurrency wallet and for the stock and bond portions of the portfolio to determine if the credit union member has enough savings to build an emergency fund into their financial plan. To do this, complete the following steps:\n",
    "\n",
    "1. Create a Python list named `savings_data` that has two elements. The first element contains the total value of the cryptocurrency wallet. The second element contains the total value of the stock and bond portions of the portfolio.\n",
    "\n",
    "2. Use the `savings_data` list to create a Pandas DataFrame named `savings_df`, and then display this DataFrame. The function to create the DataFrame should take the following three parameters:\n",
    "\n",
    "    - `savings_data`: Use the list that you just created.\n",
    "\n",
    "    - `columns`: Set this parameter equal to a Python list with a single value called `amount`.\n",
    "\n",
    "    - `index`: Set this parameter equal to a Python list with the values of `crypto` and `stock/bond`.\n",
    "\n",
    "3. Use the `savings_df` DataFrame to plot a pie chart that visualizes the composition of the member’s portfolio. The y-axis of the pie chart uses `amount`. Be sure to add a title.\n",
    "\n",
    "4. Using Python, determine if the current portfolio has enough to create an emergency fund as part of the member’s financial plan. Ideally, an emergency fund should equal to three times the member’s monthly income. To do this, implement the following steps:\n",
    "\n",
    "    1. Create a variable named `emergency_fund_value`, and set it equal to three times the value of the member’s `monthly_income` of $12000. (You set this earlier in Part 1).\n",
    "\n",
    "    2. Create a series of three if statements to determine if the member’s total portfolio is large enough to fund the emergency portfolio:\n",
    "\n",
    "        1. If the total portfolio value is greater than the emergency fund value, display a message congratulating the member for having enough money in this fund.\n",
    "\n",
    "        2. Else if the total portfolio value is equal to the emergency fund value, display a message congratulating the member on reaching this important financial goal.\n",
    "\n",
    "        3. Else the total portfolio is less than the emergency fund value, so display a message showing how many dollars away the member is from reaching the goal. (Subtract the total portfolio value from the emergency fund value.)\n"
   ]
  },
  {
   "cell_type": "markdown",
   "metadata": {},
   "source": [
    "#### Step 1: Create a Python list named `savings_data` that has two elements. The first element contains the total value of the cryptocurrency wallet. The second element contains the total value of the stock and bond portions of the portfolio."
   ]
  },
  {
   "cell_type": "code",
   "execution_count": 180,
   "metadata": {},
   "outputs": [
    {
     "name": "stdout",
     "output_type": "stream",
     "text": [
      "the value of savings data are[95281.03199999999, 74305.0]\n"
     ]
    }
   ],
   "source": [
    "# Consolidate financial assets data into a Python list\n",
    "savings_data = [total_crypto_wallet, total_stocks_bonds ]\n",
    "\n",
    "# Review the Python list savings_data\n",
    "\n",
    "print(f'the value of savings data are{savings_data}')"
   ]
  },
  {
   "cell_type": "markdown",
   "metadata": {},
   "source": [
    "#### Step 2: Use the `savings_data` list to create a Pandas DataFrame named `savings_df`, and then display this DataFrame. The function to create the DataFrame should take the following three parameters:\n",
    "\n",
    "- `savings_data`: Use the list that you just created.\n",
    "\n",
    "- `columns`: Set this parameter equal to a Python list with a single value called `amount`.\n",
    "\n",
    "- `index`: Set this parameter equal to a Python list with the values of `crypto` and `stock/bond`.\n"
   ]
  },
  {
   "cell_type": "code",
   "execution_count": 181,
   "metadata": {},
   "outputs": [
    {
     "data": {
      "text/html": [
       "<div>\n",
       "<style scoped>\n",
       "    .dataframe tbody tr th:only-of-type {\n",
       "        vertical-align: middle;\n",
       "    }\n",
       "\n",
       "    .dataframe tbody tr th {\n",
       "        vertical-align: top;\n",
       "    }\n",
       "\n",
       "    .dataframe thead th {\n",
       "        text-align: right;\n",
       "    }\n",
       "</style>\n",
       "<table border=\"1\" class=\"dataframe\">\n",
       "  <thead>\n",
       "    <tr style=\"text-align: right;\">\n",
       "      <th></th>\n",
       "      <th>amount</th>\n",
       "    </tr>\n",
       "  </thead>\n",
       "  <tbody>\n",
       "    <tr>\n",
       "      <th>crypto</th>\n",
       "      <td>95281.032</td>\n",
       "    </tr>\n",
       "    <tr>\n",
       "      <th>stock/bond</th>\n",
       "      <td>74305.000</td>\n",
       "    </tr>\n",
       "  </tbody>\n",
       "</table>\n",
       "</div>"
      ],
      "text/plain": [
       "               amount\n",
       "crypto      95281.032\n",
       "stock/bond  74305.000"
      ]
     },
     "execution_count": 181,
     "metadata": {},
     "output_type": "execute_result"
    }
   ],
   "source": [
    "# Create a Pandas DataFrame called savings_df \n",
    "savings_df = pd.DataFrame(savings_data,columns=['amount'], index=['crypto','stock/bond'])\n",
    "\n",
    "\n",
    "# Display the savings_df DataFrame\n",
    "savings_df.head()\n"
   ]
  },
  {
   "cell_type": "markdown",
   "metadata": {},
   "source": [
    "#### Step 3: Use the `savings_df` DataFrame to plot a pie chart that visualizes the composition of the member’s portfolio. The y-axis of the pie chart uses `amount`. Be sure to add a title."
   ]
  },
  {
   "cell_type": "code",
   "execution_count": 182,
   "metadata": {},
   "outputs": [
    {
     "data": {
      "text/plain": [
       "<AxesSubplot:title={'center':'Saving dataframe'}, ylabel='amount'>"
      ]
     },
     "execution_count": 182,
     "metadata": {},
     "output_type": "execute_result"
    },
    {
     "data": {
      "image/png": "[encoded data removed]",
      "text/plain": [
       "<Figure size 432x288 with 1 Axes>"
      ]
     },
     "metadata": {},
     "output_type": "display_data"
    }
   ],
   "source": [
    "# Plot the total value of the member's portfolio (crypto and stock/bond) in a pie chart\n",
    "savings_df.plot.pie(title='Saving dataframe', y='amount')\n"
   ]
  },
  {
   "cell_type": "markdown",
   "metadata": {},
   "source": [
    "#### Step 4: Using Python, determine if the current portfolio has enough to create an emergency fund as part of the member’s financial plan. Ideally, an emergency fund should equal to three times the member’s monthly income. To do this, implement the following steps:\n",
    "\n",
    "Step 1. Create a variable named `emergency_fund_value`, and set it equal to three times the value of the member’s `monthly_income` of 12000. (You set this earlier in Part 1).\n",
    "\n",
    "Step 2. Create a series of three if statements to determine if the member’s total portfolio is large enough to fund the emergency portfolio:\n",
    "\n",
    "* If the total portfolio value is greater than the emergency fund value, display a message congratulating the member for having enough money in this fund.\n",
    "\n",
    "* Else if the total portfolio value is equal to the emergency fund value, display a message congratulating the member on reaching this important financial goal.\n",
    "\n",
    "* Else the total portfolio is less than the emergency fund value, so display a message showing how many dollars away the member is from reaching the goal. (Subtract the total portfolio value from the emergency fund value.)\n"
   ]
  },
  {
   "cell_type": "markdown",
   "metadata": {},
   "source": [
    "##### Step 4-1: Create a variable named `emergency_fund_value`, and set it equal to three times the value of the member’s `monthly_income` of 12000. (You set this earlier in Part 1)."
   ]
  },
  {
   "cell_type": "code",
   "execution_count": 183,
   "metadata": {},
   "outputs": [],
   "source": [
    "# Create a variable named emergency_fund_value\n",
    "emergency_fund_value = monthly_income * 3\n"
   ]
  },
  {
   "cell_type": "markdown",
   "metadata": {},
   "source": [
    "##### Step 4-2: Create a series of three if statements to determine if the member’s total portfolio is large enough to fund the emergency portfolio:\n",
    "\n",
    "* If the total portfolio value is greater than the emergency fund value, display a message congratulating the member for having enough money in this fund.\n",
    "\n",
    "* Else if the total portfolio value is equal to the emergency fund value, display a message congratulating the member on reaching this important financial goal.\n",
    "\n",
    "* Else the total portfolio is less than the emergency fund value, so display a message showing how many dollars away the member is from reaching the goal. (Subtract the total portfolio value from the emergency fund value.)"
   ]
  },
  {
   "cell_type": "code",
   "execution_count": 187,
   "metadata": {},
   "outputs": [
    {
     "name": "stdout",
     "output_type": "stream",
     "text": [
      "YAY! you are all set, money in the accounto $169,586.03 will be able to cover the emergency $36,000.00\n"
     ]
    }
   ],
   "source": [
    "# Evaluate the possibility of creating an emergency fund with 3 conditions:\n",
    "if (total_portfolio < emergency_fund_value):\n",
    "    print(f\"There is not enough fund in the account ${total_portfolio:,.2f} to cover the emergency ${emergency_fund_value:,.2f}\")\n",
    "elif (total_portfolio >= emergency_fund_value):\n",
    "    print(f\"YAY! you are all set, money in the accounto ${total_portfolio:,.2f} will be able to cover the emergency ${emergency_fund_value:,.2f}\")\n",
    "else:\n",
    "    printf(f\"the balance of the account is  ${ total_portfolio - emergency_fund_value :,.2f }\")\n"
   ]
  },
  {
   "cell_type": "markdown",
   "metadata": {},
   "source": [
    "## Part 2: Create a Financial Planner for Retirement"
   ]
  },
  {
   "cell_type": "markdown",
   "metadata": {},
   "source": [
    "### Create the Monte Carlo Simulation\n",
    "\n",
    "In this section, you’ll use the MCForecastTools library to create a Monte Carlo simulation for the member’s savings portfolio. To do this, complete the following steps:\n",
    "\n",
    "1. Make an API call via the Alpaca SDK to get 3 years of historical closing prices for a traditional 60/40 portfolio split: 60% stocks (SPY) and 40% bonds (AGG).\n",
    "\n",
    "2. Run a Monte Carlo simulation of 500 samples and 30 years for the 60/40 portfolio, and then plot the results.The following image shows the overlay line plot resulting from a simulation with these characteristics. However, because a random number generator is used to run each live Monte Carlo simulation, your image will differ slightly from this exact image:\n",
    "\n",
    "![A screenshot depicts the resulting plot.](Images/5-4-monte-carlo-line-plot.png)\n",
    "\n",
    "3. Plot the probability distribution of the Monte Carlo simulation. Plot the probability distribution of the Monte Carlo simulation. The following image shows the histogram plot resulting from a simulation with these characteristics. However, because a random number generator is used to run each live Monte Carlo simulation, your image will differ slightly from this exact image:\n",
    "\n",
    "![A screenshot depicts the histogram plot.](Images/5-4-monte-carlo-histogram.png)\n",
    "\n",
    "4. Generate the summary statistics for the Monte Carlo simulation.\n",
    "\n"
   ]
  },
  {
   "cell_type": "markdown",
   "metadata": {},
   "source": [
    "#### Step 1: Make an API call via the Alpaca SDK to get 3 years of historical closing prices for a traditional 60/40 portfolio split: 60% stocks (SPY) and 40% bonds (AGG)."
   ]
  },
  {
   "cell_type": "code",
   "execution_count": 190,
   "metadata": {},
   "outputs": [],
   "source": [
    "# Set start and end dates of 3 years back from your current date\n",
    "# Alternatively, you can use an end date of 2020-08-07 and work 3 years back from that date \n",
    "start_date_3y = pd.Timestamp(\"2018-11-17\", tz=\"America/New_York\").isoformat()\n",
    "end_date_3y = pd.Timestamp(\"2021-11-17\", tz=\"America/New_York\").isoformat()\n",
    "tickers =[\"SPY\", \"AGG\"]\n",
    "# Set number of rows to 1000 to retrieve the maximum amount of rows\n",
    "limit_rows=1000"
   ]
  },
  {
   "cell_type": "code",
   "execution_count": 191,
   "metadata": {},
   "outputs": [
    {
     "data": {
      "text/html": [
       "<div>\n",
       "<style scoped>\n",
       "    .dataframe tbody tr th:only-of-type {\n",
       "        vertical-align: middle;\n",
       "    }\n",
       "\n",
       "    .dataframe tbody tr th {\n",
       "        vertical-align: top;\n",
       "    }\n",
       "\n",
       "    .dataframe thead tr th {\n",
       "        text-align: left;\n",
       "    }\n",
       "\n",
       "    .dataframe thead tr:last-of-type th {\n",
       "        text-align: right;\n",
       "    }\n",
       "</style>\n",
       "<table border=\"1\" class=\"dataframe\">\n",
       "  <thead>\n",
       "    <tr>\n",
       "      <th></th>\n",
       "      <th colspan=\"5\" halign=\"left\">AGG</th>\n",
       "      <th colspan=\"5\" halign=\"left\">SPY</th>\n",
       "    </tr>\n",
       "    <tr>\n",
       "      <th></th>\n",
       "      <th>open</th>\n",
       "      <th>high</th>\n",
       "      <th>low</th>\n",
       "      <th>close</th>\n",
       "      <th>volume</th>\n",
       "      <th>open</th>\n",
       "      <th>high</th>\n",
       "      <th>low</th>\n",
       "      <th>close</th>\n",
       "      <th>volume</th>\n",
       "    </tr>\n",
       "    <tr>\n",
       "      <th>time</th>\n",
       "      <th></th>\n",
       "      <th></th>\n",
       "      <th></th>\n",
       "      <th></th>\n",
       "      <th></th>\n",
       "      <th></th>\n",
       "      <th></th>\n",
       "      <th></th>\n",
       "      <th></th>\n",
       "      <th></th>\n",
       "    </tr>\n",
       "  </thead>\n",
       "  <tbody>\n",
       "    <tr>\n",
       "      <th>2018-11-19 00:00:00-05:00</th>\n",
       "      <td>104.61</td>\n",
       "      <td>104.7299</td>\n",
       "      <td>104.61</td>\n",
       "      <td>104.66</td>\n",
       "      <td>4354256</td>\n",
       "      <td>273.05</td>\n",
       "      <td>273.6176</td>\n",
       "      <td>266.7480</td>\n",
       "      <td>269.08</td>\n",
       "      <td>86509084</td>\n",
       "    </tr>\n",
       "    <tr>\n",
       "      <th>2018-11-20 00:00:00-05:00</th>\n",
       "      <td>104.67</td>\n",
       "      <td>104.7200</td>\n",
       "      <td>104.61</td>\n",
       "      <td>104.61</td>\n",
       "      <td>3015946</td>\n",
       "      <td>265.36</td>\n",
       "      <td>269.1000</td>\n",
       "      <td>263.1500</td>\n",
       "      <td>264.18</td>\n",
       "      <td>121173305</td>\n",
       "    </tr>\n",
       "    <tr>\n",
       "      <th>2018-11-21 00:00:00-05:00</th>\n",
       "      <td>104.60</td>\n",
       "      <td>104.6900</td>\n",
       "      <td>104.58</td>\n",
       "      <td>104.68</td>\n",
       "      <td>5492705</td>\n",
       "      <td>265.86</td>\n",
       "      <td>267.1500</td>\n",
       "      <td>264.2527</td>\n",
       "      <td>265.08</td>\n",
       "      <td>64743156</td>\n",
       "    </tr>\n",
       "    <tr>\n",
       "      <th>2018-11-23 00:00:00-05:00</th>\n",
       "      <td>104.84</td>\n",
       "      <td>104.8400</td>\n",
       "      <td>104.65</td>\n",
       "      <td>104.65</td>\n",
       "      <td>1536835</td>\n",
       "      <td>263.18</td>\n",
       "      <td>265.0662</td>\n",
       "      <td>263.0700</td>\n",
       "      <td>263.34</td>\n",
       "      <td>36245484</td>\n",
       "    </tr>\n",
       "    <tr>\n",
       "      <th>2018-11-26 00:00:00-05:00</th>\n",
       "      <td>104.67</td>\n",
       "      <td>104.6700</td>\n",
       "      <td>104.59</td>\n",
       "      <td>104.63</td>\n",
       "      <td>3510989</td>\n",
       "      <td>265.78</td>\n",
       "      <td>268.2909</td>\n",
       "      <td>263.3652</td>\n",
       "      <td>267.46</td>\n",
       "      <td>67385154</td>\n",
       "    </tr>\n",
       "  </tbody>\n",
       "</table>\n",
       "</div>"
      ],
      "text/plain": [
       "                              AGG                                        SPY  \\\n",
       "                             open      high     low   close   volume    open   \n",
       "time                                                                           \n",
       "2018-11-19 00:00:00-05:00  104.61  104.7299  104.61  104.66  4354256  273.05   \n",
       "2018-11-20 00:00:00-05:00  104.67  104.7200  104.61  104.61  3015946  265.36   \n",
       "2018-11-21 00:00:00-05:00  104.60  104.6900  104.58  104.68  5492705  265.86   \n",
       "2018-11-23 00:00:00-05:00  104.84  104.8400  104.65  104.65  1536835  263.18   \n",
       "2018-11-26 00:00:00-05:00  104.67  104.6700  104.59  104.63  3510989  265.78   \n",
       "\n",
       "                                                                  \n",
       "                               high       low   close     volume  \n",
       "time                                                              \n",
       "2018-11-19 00:00:00-05:00  273.6176  266.7480  269.08   86509084  \n",
       "2018-11-20 00:00:00-05:00  269.1000  263.1500  264.18  121173305  \n",
       "2018-11-21 00:00:00-05:00  267.1500  264.2527  265.08   64743156  \n",
       "2018-11-23 00:00:00-05:00  265.0662  263.0700  263.34   36245484  \n",
       "2018-11-26 00:00:00-05:00  268.2909  263.3652  267.46   67385154  "
      ]
     },
     "metadata": {},
     "output_type": "display_data"
    },
    {
     "data": {
      "text/html": [
       "<div>\n",
       "<style scoped>\n",
       "    .dataframe tbody tr th:only-of-type {\n",
       "        vertical-align: middle;\n",
       "    }\n",
       "\n",
       "    .dataframe tbody tr th {\n",
       "        vertical-align: top;\n",
       "    }\n",
       "\n",
       "    .dataframe thead tr th {\n",
       "        text-align: left;\n",
       "    }\n",
       "\n",
       "    .dataframe thead tr:last-of-type th {\n",
       "        text-align: right;\n",
       "    }\n",
       "</style>\n",
       "<table border=\"1\" class=\"dataframe\">\n",
       "  <thead>\n",
       "    <tr>\n",
       "      <th></th>\n",
       "      <th colspan=\"5\" halign=\"left\">AGG</th>\n",
       "      <th colspan=\"5\" halign=\"left\">SPY</th>\n",
       "    </tr>\n",
       "    <tr>\n",
       "      <th></th>\n",
       "      <th>open</th>\n",
       "      <th>high</th>\n",
       "      <th>low</th>\n",
       "      <th>close</th>\n",
       "      <th>volume</th>\n",
       "      <th>open</th>\n",
       "      <th>high</th>\n",
       "      <th>low</th>\n",
       "      <th>close</th>\n",
       "      <th>volume</th>\n",
       "    </tr>\n",
       "    <tr>\n",
       "      <th>time</th>\n",
       "      <th></th>\n",
       "      <th></th>\n",
       "      <th></th>\n",
       "      <th></th>\n",
       "      <th></th>\n",
       "      <th></th>\n",
       "      <th></th>\n",
       "      <th></th>\n",
       "      <th></th>\n",
       "      <th></th>\n",
       "    </tr>\n",
       "  </thead>\n",
       "  <tbody>\n",
       "    <tr>\n",
       "      <th>2021-11-11 00:00:00-05:00</th>\n",
       "      <td>114.51</td>\n",
       "      <td>114.570</td>\n",
       "      <td>114.30</td>\n",
       "      <td>114.34</td>\n",
       "      <td>3105027</td>\n",
       "      <td>465.21</td>\n",
       "      <td>465.290</td>\n",
       "      <td>463.75</td>\n",
       "      <td>463.81</td>\n",
       "      <td>31757893</td>\n",
       "    </tr>\n",
       "    <tr>\n",
       "      <th>2021-11-12 00:00:00-05:00</th>\n",
       "      <td>114.50</td>\n",
       "      <td>114.585</td>\n",
       "      <td>114.26</td>\n",
       "      <td>114.33</td>\n",
       "      <td>4398727</td>\n",
       "      <td>465.12</td>\n",
       "      <td>467.860</td>\n",
       "      <td>464.11</td>\n",
       "      <td>467.26</td>\n",
       "      <td>44677612</td>\n",
       "    </tr>\n",
       "    <tr>\n",
       "      <th>2021-11-15 00:00:00-05:00</th>\n",
       "      <td>114.30</td>\n",
       "      <td>114.310</td>\n",
       "      <td>113.91</td>\n",
       "      <td>113.93</td>\n",
       "      <td>6219329</td>\n",
       "      <td>468.64</td>\n",
       "      <td>468.810</td>\n",
       "      <td>466.23</td>\n",
       "      <td>467.39</td>\n",
       "      <td>39813913</td>\n",
       "    </tr>\n",
       "    <tr>\n",
       "      <th>2021-11-16 00:00:00-05:00</th>\n",
       "      <td>113.92</td>\n",
       "      <td>114.110</td>\n",
       "      <td>113.84</td>\n",
       "      <td>113.87</td>\n",
       "      <td>5317284</td>\n",
       "      <td>467.16</td>\n",
       "      <td>470.485</td>\n",
       "      <td>467.07</td>\n",
       "      <td>469.24</td>\n",
       "      <td>41723421</td>\n",
       "    </tr>\n",
       "    <tr>\n",
       "      <th>2021-11-17 00:00:00-05:00</th>\n",
       "      <td>113.79</td>\n",
       "      <td>114.130</td>\n",
       "      <td>113.77</td>\n",
       "      <td>114.13</td>\n",
       "      <td>5513227</td>\n",
       "      <td>469.00</td>\n",
       "      <td>469.190</td>\n",
       "      <td>467.48</td>\n",
       "      <td>468.11</td>\n",
       "      <td>40088372</td>\n",
       "    </tr>\n",
       "  </tbody>\n",
       "</table>\n",
       "</div>"
      ],
      "text/plain": [
       "                              AGG                                       SPY  \\\n",
       "                             open     high     low   close   volume    open   \n",
       "time                                                                          \n",
       "2021-11-11 00:00:00-05:00  114.51  114.570  114.30  114.34  3105027  465.21   \n",
       "2021-11-12 00:00:00-05:00  114.50  114.585  114.26  114.33  4398727  465.12   \n",
       "2021-11-15 00:00:00-05:00  114.30  114.310  113.91  113.93  6219329  468.64   \n",
       "2021-11-16 00:00:00-05:00  113.92  114.110  113.84  113.87  5317284  467.16   \n",
       "2021-11-17 00:00:00-05:00  113.79  114.130  113.77  114.13  5513227  469.00   \n",
       "\n",
       "                                                              \n",
       "                              high     low   close    volume  \n",
       "time                                                          \n",
       "2021-11-11 00:00:00-05:00  465.290  463.75  463.81  31757893  \n",
       "2021-11-12 00:00:00-05:00  467.860  464.11  467.26  44677612  \n",
       "2021-11-15 00:00:00-05:00  468.810  466.23  467.39  39813913  \n",
       "2021-11-16 00:00:00-05:00  470.485  467.07  469.24  41723421  \n",
       "2021-11-17 00:00:00-05:00  469.190  467.48  468.11  40088372  "
      ]
     },
     "metadata": {},
     "output_type": "display_data"
    }
   ],
   "source": [
    "# Use the Alpaca get_barset function to make the API call to get the 3 years worth of pricing data\n",
    "# The tickers and timeframe parameters should have been set in Part 1 of this activity \n",
    "# The start and end dates should be updated with the information set above\n",
    "# Remember to add the df property to the end of the call so the response is returned as a DataFrame\n",
    "\n",
    "ticker_3y = alpaca.get_barset(\n",
    "    tickers,\n",
    "    timeframe,\n",
    "    start=start_date_3y,\n",
    "    end=end_date_3y,\n",
    "    limit=limit_rows\n",
    ").df\n",
    "\n",
    "# Display both the first and last five rows of the DataFrame\n",
    "display(ticker_3y.head())\n",
    "display(ticker_3y.tail())\n"
   ]
  },
  {
   "cell_type": "markdown",
   "metadata": {},
   "source": [
    "#### Step 2: Run a Monte Carlo simulation of 500 samples and 30 years for the 60/40 portfolio, and then plot the results."
   ]
  },
  {
   "cell_type": "code",
   "execution_count": 194,
   "metadata": {},
   "outputs": [
    {
     "data": {
      "text/html": [
       "<div>\n",
       "<style scoped>\n",
       "    .dataframe tbody tr th:only-of-type {\n",
       "        vertical-align: middle;\n",
       "    }\n",
       "\n",
       "    .dataframe tbody tr th {\n",
       "        vertical-align: top;\n",
       "    }\n",
       "\n",
       "    .dataframe thead tr th {\n",
       "        text-align: left;\n",
       "    }\n",
       "\n",
       "    .dataframe thead tr:last-of-type th {\n",
       "        text-align: right;\n",
       "    }\n",
       "</style>\n",
       "<table border=\"1\" class=\"dataframe\">\n",
       "  <thead>\n",
       "    <tr>\n",
       "      <th></th>\n",
       "      <th colspan=\"6\" halign=\"left\">AGG</th>\n",
       "      <th colspan=\"6\" halign=\"left\">SPY</th>\n",
       "    </tr>\n",
       "    <tr>\n",
       "      <th></th>\n",
       "      <th>open</th>\n",
       "      <th>high</th>\n",
       "      <th>low</th>\n",
       "      <th>close</th>\n",
       "      <th>volume</th>\n",
       "      <th>daily_return</th>\n",
       "      <th>open</th>\n",
       "      <th>high</th>\n",
       "      <th>low</th>\n",
       "      <th>close</th>\n",
       "      <th>volume</th>\n",
       "      <th>daily_return</th>\n",
       "    </tr>\n",
       "    <tr>\n",
       "      <th>time</th>\n",
       "      <th></th>\n",
       "      <th></th>\n",
       "      <th></th>\n",
       "      <th></th>\n",
       "      <th></th>\n",
       "      <th></th>\n",
       "      <th></th>\n",
       "      <th></th>\n",
       "      <th></th>\n",
       "      <th></th>\n",
       "      <th></th>\n",
       "      <th></th>\n",
       "    </tr>\n",
       "  </thead>\n",
       "  <tbody>\n",
       "    <tr>\n",
       "      <th>2018-11-19 00:00:00-05:00</th>\n",
       "      <td>104.61</td>\n",
       "      <td>104.7299</td>\n",
       "      <td>104.61</td>\n",
       "      <td>104.66</td>\n",
       "      <td>4354256</td>\n",
       "      <td>NaN</td>\n",
       "      <td>273.05</td>\n",
       "      <td>273.6176</td>\n",
       "      <td>266.7480</td>\n",
       "      <td>269.08</td>\n",
       "      <td>86509084</td>\n",
       "      <td>NaN</td>\n",
       "    </tr>\n",
       "    <tr>\n",
       "      <th>2018-11-20 00:00:00-05:00</th>\n",
       "      <td>104.67</td>\n",
       "      <td>104.7200</td>\n",
       "      <td>104.61</td>\n",
       "      <td>104.61</td>\n",
       "      <td>3015946</td>\n",
       "      <td>-0.000478</td>\n",
       "      <td>265.36</td>\n",
       "      <td>269.1000</td>\n",
       "      <td>263.1500</td>\n",
       "      <td>264.18</td>\n",
       "      <td>121173305</td>\n",
       "      <td>-0.018210</td>\n",
       "    </tr>\n",
       "    <tr>\n",
       "      <th>2018-11-21 00:00:00-05:00</th>\n",
       "      <td>104.60</td>\n",
       "      <td>104.6900</td>\n",
       "      <td>104.58</td>\n",
       "      <td>104.68</td>\n",
       "      <td>5492705</td>\n",
       "      <td>0.000669</td>\n",
       "      <td>265.86</td>\n",
       "      <td>267.1500</td>\n",
       "      <td>264.2527</td>\n",
       "      <td>265.08</td>\n",
       "      <td>64743156</td>\n",
       "      <td>0.003407</td>\n",
       "    </tr>\n",
       "    <tr>\n",
       "      <th>2018-11-23 00:00:00-05:00</th>\n",
       "      <td>104.84</td>\n",
       "      <td>104.8400</td>\n",
       "      <td>104.65</td>\n",
       "      <td>104.65</td>\n",
       "      <td>1536835</td>\n",
       "      <td>-0.000287</td>\n",
       "      <td>263.18</td>\n",
       "      <td>265.0662</td>\n",
       "      <td>263.0700</td>\n",
       "      <td>263.34</td>\n",
       "      <td>36245484</td>\n",
       "      <td>-0.006564</td>\n",
       "    </tr>\n",
       "    <tr>\n",
       "      <th>2018-11-26 00:00:00-05:00</th>\n",
       "      <td>104.67</td>\n",
       "      <td>104.6700</td>\n",
       "      <td>104.59</td>\n",
       "      <td>104.63</td>\n",
       "      <td>3510989</td>\n",
       "      <td>-0.000191</td>\n",
       "      <td>265.78</td>\n",
       "      <td>268.2909</td>\n",
       "      <td>263.3652</td>\n",
       "      <td>267.46</td>\n",
       "      <td>67385154</td>\n",
       "      <td>0.015645</td>\n",
       "    </tr>\n",
       "  </tbody>\n",
       "</table>\n",
       "</div>"
      ],
      "text/plain": [
       "                              AGG                                     \\\n",
       "                             open      high     low   close   volume   \n",
       "time                                                                   \n",
       "2018-11-19 00:00:00-05:00  104.61  104.7299  104.61  104.66  4354256   \n",
       "2018-11-20 00:00:00-05:00  104.67  104.7200  104.61  104.61  3015946   \n",
       "2018-11-21 00:00:00-05:00  104.60  104.6900  104.58  104.68  5492705   \n",
       "2018-11-23 00:00:00-05:00  104.84  104.8400  104.65  104.65  1536835   \n",
       "2018-11-26 00:00:00-05:00  104.67  104.6700  104.59  104.63  3510989   \n",
       "\n",
       "                                           SPY                              \\\n",
       "                          daily_return    open      high       low   close   \n",
       "time                                                                         \n",
       "2018-11-19 00:00:00-05:00          NaN  273.05  273.6176  266.7480  269.08   \n",
       "2018-11-20 00:00:00-05:00    -0.000478  265.36  269.1000  263.1500  264.18   \n",
       "2018-11-21 00:00:00-05:00     0.000669  265.86  267.1500  264.2527  265.08   \n",
       "2018-11-23 00:00:00-05:00    -0.000287  263.18  265.0662  263.0700  263.34   \n",
       "2018-11-26 00:00:00-05:00    -0.000191  265.78  268.2909  263.3652  267.46   \n",
       "\n",
       "                                                   \n",
       "                              volume daily_return  \n",
       "time                                               \n",
       "2018-11-19 00:00:00-05:00   86509084          NaN  \n",
       "2018-11-20 00:00:00-05:00  121173305    -0.018210  \n",
       "2018-11-21 00:00:00-05:00   64743156     0.003407  \n",
       "2018-11-23 00:00:00-05:00   36245484    -0.006564  \n",
       "2018-11-26 00:00:00-05:00   67385154     0.015645  "
      ]
     },
     "execution_count": 194,
     "metadata": {},
     "output_type": "execute_result"
    }
   ],
   "source": [
    "# Configure the Monte Carlo simulation to forecast 30 years cumulative returns\n",
    "# The weights should be split 40% to AGG and 60% to SPY.\n",
    "# Run 500 samples.\n",
    "thirty_years_simulation = MCSimulation(\n",
    "    portfolio_data=ticker_3y,\n",
    "    weights=[0.40, 0.60],\n",
    "    num_simulation=500,\n",
    "    num_trading_days=252*30,\n",
    ")\n",
    "\n",
    "# Review the simulation input data\n",
    "thirty_years_simulation.portfolio_data.head()\n"
   ]
  },
  {
   "cell_type": "code",
   "execution_count": 196,
   "metadata": {},
   "outputs": [
    {
     "name": "stdout",
     "output_type": "stream",
     "text": [
      "Running Monte Carlo simulation number 0.\n",
      "Running Monte Carlo simulation number 10.\n",
      "Running Monte Carlo simulation number 20.\n",
      "Running Monte Carlo simulation number 30.\n",
      "Running Monte Carlo simulation number 40.\n",
      "Running Monte Carlo simulation number 50.\n",
      "Running Monte Carlo simulation number 60.\n",
      "Running Monte Carlo simulation number 70.\n",
      "Running Monte Carlo simulation number 80.\n",
      "Running Monte Carlo simulation number 90.\n",
      "Running Monte Carlo simulation number 100.\n",
      "Running Monte Carlo simulation number 110.\n",
      "Running Monte Carlo simulation number 120.\n",
      "Running Monte Carlo simulation number 130.\n",
      "Running Monte Carlo simulation number 140.\n",
      "Running Monte Carlo simulation number 150.\n",
      "Running Monte Carlo simulation number 160.\n",
      "Running Monte Carlo simulation number 170.\n",
      "Running Monte Carlo simulation number 180.\n",
      "Running Monte Carlo simulation number 190.\n",
      "Running Monte Carlo simulation number 200.\n",
      "Running Monte Carlo simulation number 210.\n",
      "Running Monte Carlo simulation number 220.\n",
      "Running Monte Carlo simulation number 230.\n",
      "Running Monte Carlo simulation number 240.\n",
      "Running Monte Carlo simulation number 250.\n",
      "Running Monte Carlo simulation number 260.\n",
      "Running Monte Carlo simulation number 270.\n",
      "Running Monte Carlo simulation number 280.\n",
      "Running Monte Carlo simulation number 290.\n",
      "Running Monte Carlo simulation number 300.\n",
      "Running Monte Carlo simulation number 310.\n",
      "Running Monte Carlo simulation number 320.\n",
      "Running Monte Carlo simulation number 330.\n",
      "Running Monte Carlo simulation number 340.\n",
      "Running Monte Carlo simulation number 350.\n",
      "Running Monte Carlo simulation number 360.\n",
      "Running Monte Carlo simulation number 370.\n",
      "Running Monte Carlo simulation number 380.\n",
      "Running Monte Carlo simulation number 390.\n",
      "Running Monte Carlo simulation number 400.\n",
      "Running Monte Carlo simulation number 410.\n",
      "Running Monte Carlo simulation number 420.\n",
      "Running Monte Carlo simulation number 430.\n",
      "Running Monte Carlo simulation number 440.\n",
      "Running Monte Carlo simulation number 450.\n",
      "Running Monte Carlo simulation number 460.\n",
      "Running Monte Carlo simulation number 470.\n",
      "Running Monte Carlo simulation number 480.\n",
      "Running Monte Carlo simulation number 490.\n"
     ]
    },
    {
     "data": {
      "text/html": [
       "<div>\n",
       "<style scoped>\n",
       "    .dataframe tbody tr th:only-of-type {\n",
       "        vertical-align: middle;\n",
       "    }\n",
       "\n",
       "    .dataframe tbody tr th {\n",
       "        vertical-align: top;\n",
       "    }\n",
       "\n",
       "    .dataframe thead th {\n",
       "        text-align: right;\n",
       "    }\n",
       "</style>\n",
       "<table border=\"1\" class=\"dataframe\">\n",
       "  <thead>\n",
       "    <tr style=\"text-align: right;\">\n",
       "      <th></th>\n",
       "      <th>0</th>\n",
       "      <th>1</th>\n",
       "      <th>2</th>\n",
       "      <th>3</th>\n",
       "      <th>4</th>\n",
       "      <th>5</th>\n",
       "      <th>6</th>\n",
       "      <th>7</th>\n",
       "      <th>8</th>\n",
       "      <th>9</th>\n",
       "      <th>...</th>\n",
       "      <th>490</th>\n",
       "      <th>491</th>\n",
       "      <th>492</th>\n",
       "      <th>493</th>\n",
       "      <th>494</th>\n",
       "      <th>495</th>\n",
       "      <th>496</th>\n",
       "      <th>497</th>\n",
       "      <th>498</th>\n",
       "      <th>499</th>\n",
       "    </tr>\n",
       "  </thead>\n",
       "  <tbody>\n",
       "    <tr>\n",
       "      <th>0</th>\n",
       "      <td>1.000000</td>\n",
       "      <td>1.000000</td>\n",
       "      <td>1.000000</td>\n",
       "      <td>1.000000</td>\n",
       "      <td>1.000000</td>\n",
       "      <td>1.000000</td>\n",
       "      <td>1.000000</td>\n",
       "      <td>1.000000</td>\n",
       "      <td>1.000000</td>\n",
       "      <td>1.000000</td>\n",
       "      <td>...</td>\n",
       "      <td>1.000000</td>\n",
       "      <td>1.000000</td>\n",
       "      <td>1.000000</td>\n",
       "      <td>1.000000</td>\n",
       "      <td>1.000000</td>\n",
       "      <td>1.000000</td>\n",
       "      <td>1.000000</td>\n",
       "      <td>1.000000</td>\n",
       "      <td>1.000000</td>\n",
       "      <td>1.000000</td>\n",
       "    </tr>\n",
       "    <tr>\n",
       "      <th>1</th>\n",
       "      <td>1.006888</td>\n",
       "      <td>1.016453</td>\n",
       "      <td>1.013956</td>\n",
       "      <td>0.992300</td>\n",
       "      <td>1.006052</td>\n",
       "      <td>0.984435</td>\n",
       "      <td>1.017020</td>\n",
       "      <td>1.001470</td>\n",
       "      <td>1.010935</td>\n",
       "      <td>0.994644</td>\n",
       "      <td>...</td>\n",
       "      <td>1.004976</td>\n",
       "      <td>0.993354</td>\n",
       "      <td>1.008162</td>\n",
       "      <td>1.001287</td>\n",
       "      <td>1.000341</td>\n",
       "      <td>0.999107</td>\n",
       "      <td>0.983010</td>\n",
       "      <td>1.011949</td>\n",
       "      <td>0.999714</td>\n",
       "      <td>0.995079</td>\n",
       "    </tr>\n",
       "    <tr>\n",
       "      <th>2</th>\n",
       "      <td>1.010947</td>\n",
       "      <td>1.011393</td>\n",
       "      <td>1.015453</td>\n",
       "      <td>1.006208</td>\n",
       "      <td>0.999291</td>\n",
       "      <td>0.971640</td>\n",
       "      <td>1.019279</td>\n",
       "      <td>1.003179</td>\n",
       "      <td>1.007725</td>\n",
       "      <td>0.997470</td>\n",
       "      <td>...</td>\n",
       "      <td>1.001796</td>\n",
       "      <td>0.993228</td>\n",
       "      <td>1.002204</td>\n",
       "      <td>1.003591</td>\n",
       "      <td>0.991986</td>\n",
       "      <td>0.995549</td>\n",
       "      <td>0.979910</td>\n",
       "      <td>1.011256</td>\n",
       "      <td>0.995761</td>\n",
       "      <td>0.977009</td>\n",
       "    </tr>\n",
       "    <tr>\n",
       "      <th>3</th>\n",
       "      <td>1.032410</td>\n",
       "      <td>1.014449</td>\n",
       "      <td>1.005400</td>\n",
       "      <td>1.004622</td>\n",
       "      <td>0.988654</td>\n",
       "      <td>0.981920</td>\n",
       "      <td>1.025194</td>\n",
       "      <td>1.007982</td>\n",
       "      <td>0.997872</td>\n",
       "      <td>0.991866</td>\n",
       "      <td>...</td>\n",
       "      <td>0.991981</td>\n",
       "      <td>0.980566</td>\n",
       "      <td>1.004270</td>\n",
       "      <td>1.011161</td>\n",
       "      <td>1.003896</td>\n",
       "      <td>0.992388</td>\n",
       "      <td>0.978453</td>\n",
       "      <td>0.999447</td>\n",
       "      <td>0.973389</td>\n",
       "      <td>0.973145</td>\n",
       "    </tr>\n",
       "    <tr>\n",
       "      <th>4</th>\n",
       "      <td>1.024633</td>\n",
       "      <td>1.017521</td>\n",
       "      <td>1.003881</td>\n",
       "      <td>1.007761</td>\n",
       "      <td>0.996104</td>\n",
       "      <td>0.994979</td>\n",
       "      <td>1.038593</td>\n",
       "      <td>1.008979</td>\n",
       "      <td>0.986196</td>\n",
       "      <td>0.976866</td>\n",
       "      <td>...</td>\n",
       "      <td>0.988553</td>\n",
       "      <td>0.979068</td>\n",
       "      <td>1.006078</td>\n",
       "      <td>1.009493</td>\n",
       "      <td>1.003851</td>\n",
       "      <td>0.985250</td>\n",
       "      <td>0.981753</td>\n",
       "      <td>1.006800</td>\n",
       "      <td>0.980995</td>\n",
       "      <td>0.962564</td>\n",
       "    </tr>\n",
       "    <tr>\n",
       "      <th>...</th>\n",
       "      <td>...</td>\n",
       "      <td>...</td>\n",
       "      <td>...</td>\n",
       "      <td>...</td>\n",
       "      <td>...</td>\n",
       "      <td>...</td>\n",
       "      <td>...</td>\n",
       "      <td>...</td>\n",
       "      <td>...</td>\n",
       "      <td>...</td>\n",
       "      <td>...</td>\n",
       "      <td>...</td>\n",
       "      <td>...</td>\n",
       "      <td>...</td>\n",
       "      <td>...</td>\n",
       "      <td>...</td>\n",
       "      <td>...</td>\n",
       "      <td>...</td>\n",
       "      <td>...</td>\n",
       "      <td>...</td>\n",
       "      <td>...</td>\n",
       "    </tr>\n",
       "    <tr>\n",
       "      <th>7556</th>\n",
       "      <td>24.273547</td>\n",
       "      <td>59.933648</td>\n",
       "      <td>23.159216</td>\n",
       "      <td>47.417992</td>\n",
       "      <td>132.589574</td>\n",
       "      <td>62.460997</td>\n",
       "      <td>36.480852</td>\n",
       "      <td>227.385054</td>\n",
       "      <td>77.581484</td>\n",
       "      <td>18.919836</td>\n",
       "      <td>...</td>\n",
       "      <td>156.218270</td>\n",
       "      <td>80.625025</td>\n",
       "      <td>42.707725</td>\n",
       "      <td>44.049480</td>\n",
       "      <td>20.826911</td>\n",
       "      <td>80.269691</td>\n",
       "      <td>20.524513</td>\n",
       "      <td>38.937281</td>\n",
       "      <td>262.469913</td>\n",
       "      <td>14.394633</td>\n",
       "    </tr>\n",
       "    <tr>\n",
       "      <th>7557</th>\n",
       "      <td>23.901658</td>\n",
       "      <td>59.599397</td>\n",
       "      <td>23.083172</td>\n",
       "      <td>46.586433</td>\n",
       "      <td>132.397800</td>\n",
       "      <td>62.460242</td>\n",
       "      <td>36.447322</td>\n",
       "      <td>233.704527</td>\n",
       "      <td>78.104024</td>\n",
       "      <td>18.990667</td>\n",
       "      <td>...</td>\n",
       "      <td>156.646846</td>\n",
       "      <td>81.985521</td>\n",
       "      <td>42.850242</td>\n",
       "      <td>43.916665</td>\n",
       "      <td>20.902870</td>\n",
       "      <td>79.499630</td>\n",
       "      <td>20.459970</td>\n",
       "      <td>38.736296</td>\n",
       "      <td>265.466694</td>\n",
       "      <td>14.421607</td>\n",
       "    </tr>\n",
       "    <tr>\n",
       "      <th>7558</th>\n",
       "      <td>24.031300</td>\n",
       "      <td>59.866303</td>\n",
       "      <td>23.090090</td>\n",
       "      <td>47.026503</td>\n",
       "      <td>132.789755</td>\n",
       "      <td>62.294250</td>\n",
       "      <td>36.369423</td>\n",
       "      <td>238.637438</td>\n",
       "      <td>79.337451</td>\n",
       "      <td>19.034324</td>\n",
       "      <td>...</td>\n",
       "      <td>158.425127</td>\n",
       "      <td>81.634355</td>\n",
       "      <td>43.651683</td>\n",
       "      <td>44.122199</td>\n",
       "      <td>21.221489</td>\n",
       "      <td>79.582550</td>\n",
       "      <td>20.385631</td>\n",
       "      <td>38.652134</td>\n",
       "      <td>268.483065</td>\n",
       "      <td>14.489552</td>\n",
       "    </tr>\n",
       "    <tr>\n",
       "      <th>7559</th>\n",
       "      <td>23.833265</td>\n",
       "      <td>60.341043</td>\n",
       "      <td>22.928956</td>\n",
       "      <td>47.017566</td>\n",
       "      <td>133.110941</td>\n",
       "      <td>62.285773</td>\n",
       "      <td>36.238459</td>\n",
       "      <td>233.808428</td>\n",
       "      <td>79.411101</td>\n",
       "      <td>19.040121</td>\n",
       "      <td>...</td>\n",
       "      <td>159.148403</td>\n",
       "      <td>81.269451</td>\n",
       "      <td>43.947316</td>\n",
       "      <td>43.768353</td>\n",
       "      <td>21.387044</td>\n",
       "      <td>80.298764</td>\n",
       "      <td>20.358865</td>\n",
       "      <td>38.946447</td>\n",
       "      <td>263.415499</td>\n",
       "      <td>14.610730</td>\n",
       "    </tr>\n",
       "    <tr>\n",
       "      <th>7560</th>\n",
       "      <td>23.685382</td>\n",
       "      <td>60.139982</td>\n",
       "      <td>22.657568</td>\n",
       "      <td>47.375330</td>\n",
       "      <td>133.720685</td>\n",
       "      <td>61.826099</td>\n",
       "      <td>36.142641</td>\n",
       "      <td>230.583399</td>\n",
       "      <td>80.044214</td>\n",
       "      <td>19.061347</td>\n",
       "      <td>...</td>\n",
       "      <td>158.274574</td>\n",
       "      <td>82.615388</td>\n",
       "      <td>43.996772</td>\n",
       "      <td>43.373550</td>\n",
       "      <td>21.666342</td>\n",
       "      <td>78.194362</td>\n",
       "      <td>20.666657</td>\n",
       "      <td>38.453034</td>\n",
       "      <td>263.554357</td>\n",
       "      <td>14.426081</td>\n",
       "    </tr>\n",
       "  </tbody>\n",
       "</table>\n",
       "<p>7561 rows × 500 columns</p>\n",
       "</div>"
      ],
      "text/plain": [
       "            0          1          2          3           4          5    \\\n",
       "0      1.000000   1.000000   1.000000   1.000000    1.000000   1.000000   \n",
       "1      1.006888   1.016453   1.013956   0.992300    1.006052   0.984435   \n",
       "2      1.010947   1.011393   1.015453   1.006208    0.999291   0.971640   \n",
       "3      1.032410   1.014449   1.005400   1.004622    0.988654   0.981920   \n",
       "4      1.024633   1.017521   1.003881   1.007761    0.996104   0.994979   \n",
       "...         ...        ...        ...        ...         ...        ...   \n",
       "7556  24.273547  59.933648  23.159216  47.417992  132.589574  62.460997   \n",
       "7557  23.901658  59.599397  23.083172  46.586433  132.397800  62.460242   \n",
       "7558  24.031300  59.866303  23.090090  47.026503  132.789755  62.294250   \n",
       "7559  23.833265  60.341043  22.928956  47.017566  133.110941  62.285773   \n",
       "7560  23.685382  60.139982  22.657568  47.375330  133.720685  61.826099   \n",
       "\n",
       "            6           7          8          9    ...         490        491  \\\n",
       "0      1.000000    1.000000   1.000000   1.000000  ...    1.000000   1.000000   \n",
       "1      1.017020    1.001470   1.010935   0.994644  ...    1.004976   0.993354   \n",
       "2      1.019279    1.003179   1.007725   0.997470  ...    1.001796   0.993228   \n",
       "3      1.025194    1.007982   0.997872   0.991866  ...    0.991981   0.980566   \n",
       "4      1.038593    1.008979   0.986196   0.976866  ...    0.988553   0.979068   \n",
       "...         ...         ...        ...        ...  ...         ...        ...   \n",
       "7556  36.480852  227.385054  77.581484  18.919836  ...  156.218270  80.625025   \n",
       "7557  36.447322  233.704527  78.104024  18.990667  ...  156.646846  81.985521   \n",
       "7558  36.369423  238.637438  79.337451  19.034324  ...  158.425127  81.634355   \n",
       "7559  36.238459  233.808428  79.411101  19.040121  ...  159.148403  81.269451   \n",
       "7560  36.142641  230.583399  80.044214  19.061347  ...  158.274574  82.615388   \n",
       "\n",
       "            492        493        494        495        496        497  \\\n",
       "0      1.000000   1.000000   1.000000   1.000000   1.000000   1.000000   \n",
       "1      1.008162   1.001287   1.000341   0.999107   0.983010   1.011949   \n",
       "2      1.002204   1.003591   0.991986   0.995549   0.979910   1.011256   \n",
       "3      1.004270   1.011161   1.003896   0.992388   0.978453   0.999447   \n",
       "4      1.006078   1.009493   1.003851   0.985250   0.981753   1.006800   \n",
       "...         ...        ...        ...        ...        ...        ...   \n",
       "7556  42.707725  44.049480  20.826911  80.269691  20.524513  38.937281   \n",
       "7557  42.850242  43.916665  20.902870  79.499630  20.459970  38.736296   \n",
       "7558  43.651683  44.122199  21.221489  79.582550  20.385631  38.652134   \n",
       "7559  43.947316  43.768353  21.387044  80.298764  20.358865  38.946447   \n",
       "7560  43.996772  43.373550  21.666342  78.194362  20.666657  38.453034   \n",
       "\n",
       "             498        499  \n",
       "0       1.000000   1.000000  \n",
       "1       0.999714   0.995079  \n",
       "2       0.995761   0.977009  \n",
       "3       0.973389   0.973145  \n",
       "4       0.980995   0.962564  \n",
       "...          ...        ...  \n",
       "7556  262.469913  14.394633  \n",
       "7557  265.466694  14.421607  \n",
       "7558  268.483065  14.489552  \n",
       "7559  263.415499  14.610730  \n",
       "7560  263.554357  14.426081  \n",
       "\n",
       "[7561 rows x 500 columns]"
      ]
     },
     "execution_count": 196,
     "metadata": {},
     "output_type": "execute_result"
    }
   ],
   "source": [
    "# Run the Monte Carlo simulation to forecast 30 years cumulative returns\n",
    "thirty_years_simulation.calc_cumulative_return()\n"
   ]
  },
  {
   "cell_type": "code",
   "execution_count": 200,
   "metadata": {},
   "outputs": [
    {
     "data": {
      "text/plain": [
       "<AxesSubplot:title={'center':'500 Simulations of Cumulative Portfolio Return Trajectories Over the Next 7560 Trading Days.'}>"
      ]
     },
     "execution_count": 200,
     "metadata": {},
     "output_type": "execute_result"
    },
    {
     "data": {
      "image/png": "[encoded data removed]",
      "text/plain": [
       "<Figure size 432x288 with 1 Axes>"
      ]
     },
     "metadata": {
      "needs_background": "light"
     },
     "output_type": "display_data"
    }
   ],
   "source": [
    "# Visualize the 30-year Monte Carlo simulation by creating an\n",
    "# overlay line plot\n",
    "thirty_years_simulation.plot_simulation()\n"
   ]
  },
  {
   "cell_type": "markdown",
   "metadata": {},
   "source": [
    "#### Step 3: Plot the probability distribution of the Monte Carlo simulation."
   ]
  },
  {
   "cell_type": "code",
   "execution_count": 202,
   "metadata": {},
   "outputs": [
    {
     "data": {
      "text/plain": [
       "<AxesSubplot:title={'center':'Distribution of Final Cumuluative Returns Across All 500 Simulations'}, ylabel='Frequency'>"
      ]
     },
     "execution_count": 202,
     "metadata": {},
     "output_type": "execute_result"
    },
    {
     "data": {
      "image/png": "[encoded data removed]",
      "text/plain": [
       "<Figure size 432x288 with 1 Axes>"
      ]
     },
     "metadata": {
      "needs_background": "light"
     },
     "output_type": "display_data"
    }
   ],
   "source": [
    "# Visualize the probability distribution of the 30-year Monte Carlo simulation \n",
    "# by plotting a histogram\n",
    "thirty_years_simulation.plot_distribution()\n"
   ]
  },
  {
   "cell_type": "markdown",
   "metadata": {},
   "source": [
    "#### Step 4: Generate the summary statistics for the Monte Carlo simulation."
   ]
  },
  {
   "cell_type": "code",
   "execution_count": 203,
   "metadata": {},
   "outputs": [
    {
     "data": {
      "text/plain": [
       "count           500.000000\n",
       "mean             64.126990\n",
       "std              52.918749\n",
       "min               5.602720\n",
       "25%              29.245827\n",
       "50%              49.520544\n",
       "75%              81.993754\n",
       "max             366.854818\n",
       "95% CI Lower      9.696864\n",
       "95% CI Upper    230.255560\n",
       "Name: 7560, dtype: float64"
      ]
     },
     "execution_count": 203,
     "metadata": {},
     "output_type": "execute_result"
    }
   ],
   "source": [
    "# Generate summary statistics from the 30-year Monte Carlo simulation results\n",
    "# Save the results as a variable\n",
    "MC_30_years_summary_cumulation = thirty_years_simulation.summarize_cumulative_return()\n",
    "\n",
    "\n",
    "# Review the 30-year Monte Carlo summary statistics\n",
    "MC_30_years_summary_cumulation"
   ]
  },
  {
   "cell_type": "markdown",
   "metadata": {},
   "source": [
    "### Analyze the Retirement Portfolio Forecasts\n",
    "\n",
    "Using the current value of only the stock and bond portion of the member's portfolio and the summary statistics that you generated from the Monte Carlo simulation, answer the following question in your Jupyter notebook:\n",
    "\n",
    "-  What are the lower and upper bounds for the expected value of the portfolio with a 95% confidence interval?\n"
   ]
  },
  {
   "cell_type": "code",
   "execution_count": 204,
   "metadata": {},
   "outputs": [
    {
     "name": "stdout",
     "output_type": "stream",
     "text": [
      "The current balance of the stock and bond portfolio is $169,586.03\n"
     ]
    }
   ],
   "source": [
    "# Print the current balance of the stock and bond portion of the members portfolio\n",
    "\n",
    "print(f\"The current balance of the stock and bond portfolio is ${total_portfolio:,.2f}\")"
   ]
  },
  {
   "cell_type": "code",
   "execution_count": 206,
   "metadata": {},
   "outputs": [
    {
     "name": "stdout",
     "output_type": "stream",
     "text": [
      "There is a 95% chance that an initial investment of stock/bond in the portfolio over the next year will end within in the range of $720,525.48 and $17,109,139.35.\n"
     ]
    }
   ],
   "source": [
    "# Use the lower and upper `95%` confidence intervals to calculate the range of the possible outcomes for the current stock/bond portfolio\n",
    "ci_lower_thirty_cumulative_return = round(MC_30_years_summary_cumulation[8]*total_stocks_bonds,2)\n",
    "ci_upper_thirty_cumulative_return = round(MC_30_years_summary_cumulation[9]*total_stocks_bonds,2)\n",
    "\n",
    "# Print the result of your calculations\n",
    "print(f\"There is a 95% chance that an initial investment of stock/bond in the portfolio\"\n",
    "      f\" over the next year will end within in the range of\"\n",
    "      f\" ${ci_lower_thirty_cumulative_return:,.2f} and ${ci_upper_thirty_cumulative_return:,.2f}.\")\n"
   ]
  },
  {
   "cell_type": "markdown",
   "metadata": {},
   "source": [
    "### Forecast Cumulative Returns in 10 Years\n",
    "\n",
    "The CTO of the credit union is impressed with your work on these planning tools but wonders if 30 years is a long time to wait until retirement. So, your next task is to adjust the retirement portfolio and run a new Monte Carlo simulation to find out if the changes will allow members to retire earlier.\n",
    "\n",
    "For this new Monte Carlo simulation, do the following: \n",
    "\n",
    "- Forecast the cumulative returns for 10 years from now. Because of the shortened investment horizon (30 years to 10 years), the portfolio needs to invest more heavily in the riskier asset&mdash;that is, stock&mdash;to help accumulate wealth for retirement. \n",
    "\n",
    "- Adjust the weights of the retirement portfolio so that the composition for the Monte Carlo simulation consists of 20% bonds and 80% stocks. \n",
    "\n",
    "- Run the simulation over 500 samples, and use the same data that the API call to Alpaca generated.\n",
    "\n",
    "- Based on the new Monte Carlo simulation, answer the following questions in your Jupyter notebook:\n",
    "\n",
    "    - Using the current value of only the stock and bond portion of the member's portfolio and the summary statistics that you generated from the new Monte Carlo simulation, what are the lower and upper bounds for the expected value of the portfolio (with the new weights) with a 95% confidence interval?\n",
    "\n",
    "    - Will weighting the portfolio more heavily toward stocks allow the credit union members to retire after only 10 years?\n"
   ]
  },
  {
   "cell_type": "code",
   "execution_count": 207,
   "metadata": {},
   "outputs": [
    {
     "data": {
      "text/html": [
       "<div>\n",
       "<style scoped>\n",
       "    .dataframe tbody tr th:only-of-type {\n",
       "        vertical-align: middle;\n",
       "    }\n",
       "\n",
       "    .dataframe tbody tr th {\n",
       "        vertical-align: top;\n",
       "    }\n",
       "\n",
       "    .dataframe thead tr th {\n",
       "        text-align: left;\n",
       "    }\n",
       "\n",
       "    .dataframe thead tr:last-of-type th {\n",
       "        text-align: right;\n",
       "    }\n",
       "</style>\n",
       "<table border=\"1\" class=\"dataframe\">\n",
       "  <thead>\n",
       "    <tr>\n",
       "      <th></th>\n",
       "      <th colspan=\"6\" halign=\"left\">AGG</th>\n",
       "      <th colspan=\"6\" halign=\"left\">SPY</th>\n",
       "    </tr>\n",
       "    <tr>\n",
       "      <th></th>\n",
       "      <th>open</th>\n",
       "      <th>high</th>\n",
       "      <th>low</th>\n",
       "      <th>close</th>\n",
       "      <th>volume</th>\n",
       "      <th>daily_return</th>\n",
       "      <th>open</th>\n",
       "      <th>high</th>\n",
       "      <th>low</th>\n",
       "      <th>close</th>\n",
       "      <th>volume</th>\n",
       "      <th>daily_return</th>\n",
       "    </tr>\n",
       "    <tr>\n",
       "      <th>time</th>\n",
       "      <th></th>\n",
       "      <th></th>\n",
       "      <th></th>\n",
       "      <th></th>\n",
       "      <th></th>\n",
       "      <th></th>\n",
       "      <th></th>\n",
       "      <th></th>\n",
       "      <th></th>\n",
       "      <th></th>\n",
       "      <th></th>\n",
       "      <th></th>\n",
       "    </tr>\n",
       "  </thead>\n",
       "  <tbody>\n",
       "    <tr>\n",
       "      <th>2018-11-19 00:00:00-05:00</th>\n",
       "      <td>104.61</td>\n",
       "      <td>104.7299</td>\n",
       "      <td>104.61</td>\n",
       "      <td>104.66</td>\n",
       "      <td>4354256</td>\n",
       "      <td>NaN</td>\n",
       "      <td>273.05</td>\n",
       "      <td>273.6176</td>\n",
       "      <td>266.7480</td>\n",
       "      <td>269.08</td>\n",
       "      <td>86509084</td>\n",
       "      <td>NaN</td>\n",
       "    </tr>\n",
       "    <tr>\n",
       "      <th>2018-11-20 00:00:00-05:00</th>\n",
       "      <td>104.67</td>\n",
       "      <td>104.7200</td>\n",
       "      <td>104.61</td>\n",
       "      <td>104.61</td>\n",
       "      <td>3015946</td>\n",
       "      <td>-0.000478</td>\n",
       "      <td>265.36</td>\n",
       "      <td>269.1000</td>\n",
       "      <td>263.1500</td>\n",
       "      <td>264.18</td>\n",
       "      <td>121173305</td>\n",
       "      <td>-0.018210</td>\n",
       "    </tr>\n",
       "    <tr>\n",
       "      <th>2018-11-21 00:00:00-05:00</th>\n",
       "      <td>104.60</td>\n",
       "      <td>104.6900</td>\n",
       "      <td>104.58</td>\n",
       "      <td>104.68</td>\n",
       "      <td>5492705</td>\n",
       "      <td>0.000669</td>\n",
       "      <td>265.86</td>\n",
       "      <td>267.1500</td>\n",
       "      <td>264.2527</td>\n",
       "      <td>265.08</td>\n",
       "      <td>64743156</td>\n",
       "      <td>0.003407</td>\n",
       "    </tr>\n",
       "    <tr>\n",
       "      <th>2018-11-23 00:00:00-05:00</th>\n",
       "      <td>104.84</td>\n",
       "      <td>104.8400</td>\n",
       "      <td>104.65</td>\n",
       "      <td>104.65</td>\n",
       "      <td>1536835</td>\n",
       "      <td>-0.000287</td>\n",
       "      <td>263.18</td>\n",
       "      <td>265.0662</td>\n",
       "      <td>263.0700</td>\n",
       "      <td>263.34</td>\n",
       "      <td>36245484</td>\n",
       "      <td>-0.006564</td>\n",
       "    </tr>\n",
       "    <tr>\n",
       "      <th>2018-11-26 00:00:00-05:00</th>\n",
       "      <td>104.67</td>\n",
       "      <td>104.6700</td>\n",
       "      <td>104.59</td>\n",
       "      <td>104.63</td>\n",
       "      <td>3510989</td>\n",
       "      <td>-0.000191</td>\n",
       "      <td>265.78</td>\n",
       "      <td>268.2909</td>\n",
       "      <td>263.3652</td>\n",
       "      <td>267.46</td>\n",
       "      <td>67385154</td>\n",
       "      <td>0.015645</td>\n",
       "    </tr>\n",
       "  </tbody>\n",
       "</table>\n",
       "</div>"
      ],
      "text/plain": [
       "                              AGG                                     \\\n",
       "                             open      high     low   close   volume   \n",
       "time                                                                   \n",
       "2018-11-19 00:00:00-05:00  104.61  104.7299  104.61  104.66  4354256   \n",
       "2018-11-20 00:00:00-05:00  104.67  104.7200  104.61  104.61  3015946   \n",
       "2018-11-21 00:00:00-05:00  104.60  104.6900  104.58  104.68  5492705   \n",
       "2018-11-23 00:00:00-05:00  104.84  104.8400  104.65  104.65  1536835   \n",
       "2018-11-26 00:00:00-05:00  104.67  104.6700  104.59  104.63  3510989   \n",
       "\n",
       "                                           SPY                              \\\n",
       "                          daily_return    open      high       low   close   \n",
       "time                                                                         \n",
       "2018-11-19 00:00:00-05:00          NaN  273.05  273.6176  266.7480  269.08   \n",
       "2018-11-20 00:00:00-05:00    -0.000478  265.36  269.1000  263.1500  264.18   \n",
       "2018-11-21 00:00:00-05:00     0.000669  265.86  267.1500  264.2527  265.08   \n",
       "2018-11-23 00:00:00-05:00    -0.000287  263.18  265.0662  263.0700  263.34   \n",
       "2018-11-26 00:00:00-05:00    -0.000191  265.78  268.2909  263.3652  267.46   \n",
       "\n",
       "                                                   \n",
       "                              volume daily_return  \n",
       "time                                               \n",
       "2018-11-19 00:00:00-05:00   86509084          NaN  \n",
       "2018-11-20 00:00:00-05:00  121173305    -0.018210  \n",
       "2018-11-21 00:00:00-05:00   64743156     0.003407  \n",
       "2018-11-23 00:00:00-05:00   36245484    -0.006564  \n",
       "2018-11-26 00:00:00-05:00   67385154     0.015645  "
      ]
     },
     "execution_count": 207,
     "metadata": {},
     "output_type": "execute_result"
    }
   ],
   "source": [
    "# Configure a Monte Carlo simulation to forecast 10 years cumulative returns\n",
    "# The weights should be split 20% to AGG and 80% to SPY.\n",
    "# Run 500 samples.\n",
    "ten_years_simulation = MCSimulation(\n",
    "    portfolio_data=ticker_3y,\n",
    "    weights=[0.20, 0.80],\n",
    "    num_simulation=500,\n",
    "    num_trading_days=252*10,\n",
    ")\n",
    "\n",
    "# Review the simulation input data\n",
    "ten_years_simulation.portfolio_data.head()\n"
   ]
  },
  {
   "cell_type": "code",
   "execution_count": 208,
   "metadata": {},
   "outputs": [
    {
     "name": "stdout",
     "output_type": "stream",
     "text": [
      "Running Monte Carlo simulation number 0.\n",
      "Running Monte Carlo simulation number 10.\n",
      "Running Monte Carlo simulation number 20.\n",
      "Running Monte Carlo simulation number 30.\n",
      "Running Monte Carlo simulation number 40.\n",
      "Running Monte Carlo simulation number 50.\n",
      "Running Monte Carlo simulation number 60.\n",
      "Running Monte Carlo simulation number 70.\n",
      "Running Monte Carlo simulation number 80.\n",
      "Running Monte Carlo simulation number 90.\n",
      "Running Monte Carlo simulation number 100.\n",
      "Running Monte Carlo simulation number 110.\n",
      "Running Monte Carlo simulation number 120.\n",
      "Running Monte Carlo simulation number 130.\n",
      "Running Monte Carlo simulation number 140.\n",
      "Running Monte Carlo simulation number 150.\n",
      "Running Monte Carlo simulation number 160.\n",
      "Running Monte Carlo simulation number 170.\n",
      "Running Monte Carlo simulation number 180.\n",
      "Running Monte Carlo simulation number 190.\n",
      "Running Monte Carlo simulation number 200.\n",
      "Running Monte Carlo simulation number 210.\n",
      "Running Monte Carlo simulation number 220.\n",
      "Running Monte Carlo simulation number 230.\n",
      "Running Monte Carlo simulation number 240.\n",
      "Running Monte Carlo simulation number 250.\n",
      "Running Monte Carlo simulation number 260.\n",
      "Running Monte Carlo simulation number 270.\n",
      "Running Monte Carlo simulation number 280.\n",
      "Running Monte Carlo simulation number 290.\n",
      "Running Monte Carlo simulation number 300.\n",
      "Running Monte Carlo simulation number 310.\n",
      "Running Monte Carlo simulation number 320.\n",
      "Running Monte Carlo simulation number 330.\n",
      "Running Monte Carlo simulation number 340.\n",
      "Running Monte Carlo simulation number 350.\n",
      "Running Monte Carlo simulation number 360.\n",
      "Running Monte Carlo simulation number 370.\n",
      "Running Monte Carlo simulation number 380.\n",
      "Running Monte Carlo simulation number 390.\n",
      "Running Monte Carlo simulation number 400.\n",
      "Running Monte Carlo simulation number 410.\n",
      "Running Monte Carlo simulation number 420.\n",
      "Running Monte Carlo simulation number 430.\n",
      "Running Monte Carlo simulation number 440.\n",
      "Running Monte Carlo simulation number 450.\n",
      "Running Monte Carlo simulation number 460.\n",
      "Running Monte Carlo simulation number 470.\n",
      "Running Monte Carlo simulation number 480.\n",
      "Running Monte Carlo simulation number 490.\n"
     ]
    },
    {
     "data": {
      "text/html": [
       "<div>\n",
       "<style scoped>\n",
       "    .dataframe tbody tr th:only-of-type {\n",
       "        vertical-align: middle;\n",
       "    }\n",
       "\n",
       "    .dataframe tbody tr th {\n",
       "        vertical-align: top;\n",
       "    }\n",
       "\n",
       "    .dataframe thead th {\n",
       "        text-align: right;\n",
       "    }\n",
       "</style>\n",
       "<table border=\"1\" class=\"dataframe\">\n",
       "  <thead>\n",
       "    <tr style=\"text-align: right;\">\n",
       "      <th></th>\n",
       "      <th>0</th>\n",
       "      <th>1</th>\n",
       "      <th>2</th>\n",
       "      <th>3</th>\n",
       "      <th>4</th>\n",
       "      <th>5</th>\n",
       "      <th>6</th>\n",
       "      <th>7</th>\n",
       "      <th>8</th>\n",
       "      <th>9</th>\n",
       "      <th>...</th>\n",
       "      <th>490</th>\n",
       "      <th>491</th>\n",
       "      <th>492</th>\n",
       "      <th>493</th>\n",
       "      <th>494</th>\n",
       "      <th>495</th>\n",
       "      <th>496</th>\n",
       "      <th>497</th>\n",
       "      <th>498</th>\n",
       "      <th>499</th>\n",
       "    </tr>\n",
       "  </thead>\n",
       "  <tbody>\n",
       "    <tr>\n",
       "      <th>0</th>\n",
       "      <td>1.000000</td>\n",
       "      <td>1.000000</td>\n",
       "      <td>1.000000</td>\n",
       "      <td>1.000000</td>\n",
       "      <td>1.000000</td>\n",
       "      <td>1.000000</td>\n",
       "      <td>1.000000</td>\n",
       "      <td>1.000000</td>\n",
       "      <td>1.000000</td>\n",
       "      <td>1.000000</td>\n",
       "      <td>...</td>\n",
       "      <td>1.000000</td>\n",
       "      <td>1.000000</td>\n",
       "      <td>1.000000</td>\n",
       "      <td>1.000000</td>\n",
       "      <td>1.000000</td>\n",
       "      <td>1.000000</td>\n",
       "      <td>1.000000</td>\n",
       "      <td>1.000000</td>\n",
       "      <td>1.000000</td>\n",
       "      <td>1.000000</td>\n",
       "    </tr>\n",
       "    <tr>\n",
       "      <th>1</th>\n",
       "      <td>0.983927</td>\n",
       "      <td>0.995373</td>\n",
       "      <td>1.015425</td>\n",
       "      <td>0.996223</td>\n",
       "      <td>0.997099</td>\n",
       "      <td>0.994857</td>\n",
       "      <td>1.002105</td>\n",
       "      <td>0.986589</td>\n",
       "      <td>1.003929</td>\n",
       "      <td>0.992546</td>\n",
       "      <td>...</td>\n",
       "      <td>1.025350</td>\n",
       "      <td>1.003023</td>\n",
       "      <td>1.001685</td>\n",
       "      <td>1.007316</td>\n",
       "      <td>1.022668</td>\n",
       "      <td>0.984495</td>\n",
       "      <td>0.988379</td>\n",
       "      <td>0.984318</td>\n",
       "      <td>1.004996</td>\n",
       "      <td>0.991686</td>\n",
       "    </tr>\n",
       "    <tr>\n",
       "      <th>2</th>\n",
       "      <td>0.981140</td>\n",
       "      <td>0.993147</td>\n",
       "      <td>1.036548</td>\n",
       "      <td>1.007111</td>\n",
       "      <td>1.017225</td>\n",
       "      <td>1.004244</td>\n",
       "      <td>0.996546</td>\n",
       "      <td>0.981513</td>\n",
       "      <td>0.991805</td>\n",
       "      <td>0.998997</td>\n",
       "      <td>...</td>\n",
       "      <td>1.017946</td>\n",
       "      <td>0.997150</td>\n",
       "      <td>1.002633</td>\n",
       "      <td>0.987580</td>\n",
       "      <td>1.025919</td>\n",
       "      <td>0.970044</td>\n",
       "      <td>0.973637</td>\n",
       "      <td>0.996143</td>\n",
       "      <td>0.986643</td>\n",
       "      <td>0.986946</td>\n",
       "    </tr>\n",
       "    <tr>\n",
       "      <th>3</th>\n",
       "      <td>0.987456</td>\n",
       "      <td>0.985776</td>\n",
       "      <td>1.052073</td>\n",
       "      <td>1.016063</td>\n",
       "      <td>1.014824</td>\n",
       "      <td>0.995875</td>\n",
       "      <td>0.998596</td>\n",
       "      <td>0.970406</td>\n",
       "      <td>0.984919</td>\n",
       "      <td>1.002593</td>\n",
       "      <td>...</td>\n",
       "      <td>1.014036</td>\n",
       "      <td>0.994625</td>\n",
       "      <td>0.994701</td>\n",
       "      <td>0.987079</td>\n",
       "      <td>1.021899</td>\n",
       "      <td>0.989924</td>\n",
       "      <td>0.976109</td>\n",
       "      <td>1.000665</td>\n",
       "      <td>1.010834</td>\n",
       "      <td>0.970764</td>\n",
       "    </tr>\n",
       "    <tr>\n",
       "      <th>4</th>\n",
       "      <td>0.979683</td>\n",
       "      <td>0.989091</td>\n",
       "      <td>1.032186</td>\n",
       "      <td>0.993500</td>\n",
       "      <td>1.006518</td>\n",
       "      <td>1.016496</td>\n",
       "      <td>1.014366</td>\n",
       "      <td>0.968841</td>\n",
       "      <td>0.969689</td>\n",
       "      <td>0.995966</td>\n",
       "      <td>...</td>\n",
       "      <td>1.000817</td>\n",
       "      <td>1.001964</td>\n",
       "      <td>1.008603</td>\n",
       "      <td>0.969506</td>\n",
       "      <td>1.012844</td>\n",
       "      <td>0.992645</td>\n",
       "      <td>0.989295</td>\n",
       "      <td>0.995060</td>\n",
       "      <td>0.995401</td>\n",
       "      <td>0.947767</td>\n",
       "    </tr>\n",
       "    <tr>\n",
       "      <th>...</th>\n",
       "      <td>...</td>\n",
       "      <td>...</td>\n",
       "      <td>...</td>\n",
       "      <td>...</td>\n",
       "      <td>...</td>\n",
       "      <td>...</td>\n",
       "      <td>...</td>\n",
       "      <td>...</td>\n",
       "      <td>...</td>\n",
       "      <td>...</td>\n",
       "      <td>...</td>\n",
       "      <td>...</td>\n",
       "      <td>...</td>\n",
       "      <td>...</td>\n",
       "      <td>...</td>\n",
       "      <td>...</td>\n",
       "      <td>...</td>\n",
       "      <td>...</td>\n",
       "      <td>...</td>\n",
       "      <td>...</td>\n",
       "      <td>...</td>\n",
       "    </tr>\n",
       "    <tr>\n",
       "      <th>2516</th>\n",
       "      <td>5.340757</td>\n",
       "      <td>3.651650</td>\n",
       "      <td>4.684643</td>\n",
       "      <td>2.900347</td>\n",
       "      <td>3.899407</td>\n",
       "      <td>6.949539</td>\n",
       "      <td>4.855004</td>\n",
       "      <td>5.460157</td>\n",
       "      <td>3.874894</td>\n",
       "      <td>4.220371</td>\n",
       "      <td>...</td>\n",
       "      <td>7.208214</td>\n",
       "      <td>4.613322</td>\n",
       "      <td>5.301129</td>\n",
       "      <td>3.530600</td>\n",
       "      <td>2.431152</td>\n",
       "      <td>2.464454</td>\n",
       "      <td>5.015062</td>\n",
       "      <td>9.640311</td>\n",
       "      <td>3.343691</td>\n",
       "      <td>10.291212</td>\n",
       "    </tr>\n",
       "    <tr>\n",
       "      <th>2517</th>\n",
       "      <td>5.366986</td>\n",
       "      <td>3.710297</td>\n",
       "      <td>4.681343</td>\n",
       "      <td>2.855848</td>\n",
       "      <td>3.872916</td>\n",
       "      <td>6.956617</td>\n",
       "      <td>4.907196</td>\n",
       "      <td>5.475656</td>\n",
       "      <td>3.899548</td>\n",
       "      <td>4.198644</td>\n",
       "      <td>...</td>\n",
       "      <td>7.286017</td>\n",
       "      <td>4.528888</td>\n",
       "      <td>5.345803</td>\n",
       "      <td>3.501708</td>\n",
       "      <td>2.419594</td>\n",
       "      <td>2.464192</td>\n",
       "      <td>4.989721</td>\n",
       "      <td>9.569748</td>\n",
       "      <td>3.384284</td>\n",
       "      <td>10.273110</td>\n",
       "    </tr>\n",
       "    <tr>\n",
       "      <th>2518</th>\n",
       "      <td>5.365689</td>\n",
       "      <td>3.753522</td>\n",
       "      <td>4.743217</td>\n",
       "      <td>2.871832</td>\n",
       "      <td>3.841978</td>\n",
       "      <td>6.778779</td>\n",
       "      <td>4.880926</td>\n",
       "      <td>5.488181</td>\n",
       "      <td>3.835825</td>\n",
       "      <td>4.237232</td>\n",
       "      <td>...</td>\n",
       "      <td>7.388490</td>\n",
       "      <td>4.528047</td>\n",
       "      <td>5.285826</td>\n",
       "      <td>3.494209</td>\n",
       "      <td>2.444614</td>\n",
       "      <td>2.464986</td>\n",
       "      <td>4.959689</td>\n",
       "      <td>9.548873</td>\n",
       "      <td>3.362509</td>\n",
       "      <td>10.440379</td>\n",
       "    </tr>\n",
       "    <tr>\n",
       "      <th>2519</th>\n",
       "      <td>5.418114</td>\n",
       "      <td>3.725055</td>\n",
       "      <td>4.818165</td>\n",
       "      <td>2.869086</td>\n",
       "      <td>3.809096</td>\n",
       "      <td>6.652892</td>\n",
       "      <td>4.939887</td>\n",
       "      <td>5.476539</td>\n",
       "      <td>3.769841</td>\n",
       "      <td>4.172463</td>\n",
       "      <td>...</td>\n",
       "      <td>7.433665</td>\n",
       "      <td>4.555164</td>\n",
       "      <td>5.297321</td>\n",
       "      <td>3.520353</td>\n",
       "      <td>2.463714</td>\n",
       "      <td>2.483806</td>\n",
       "      <td>5.032200</td>\n",
       "      <td>9.672151</td>\n",
       "      <td>3.342785</td>\n",
       "      <td>10.562295</td>\n",
       "    </tr>\n",
       "    <tr>\n",
       "      <th>2520</th>\n",
       "      <td>5.415224</td>\n",
       "      <td>3.742998</td>\n",
       "      <td>4.785283</td>\n",
       "      <td>2.869041</td>\n",
       "      <td>3.813148</td>\n",
       "      <td>6.669022</td>\n",
       "      <td>4.956936</td>\n",
       "      <td>5.449874</td>\n",
       "      <td>3.770907</td>\n",
       "      <td>4.167405</td>\n",
       "      <td>...</td>\n",
       "      <td>7.364212</td>\n",
       "      <td>4.493489</td>\n",
       "      <td>5.339112</td>\n",
       "      <td>3.512075</td>\n",
       "      <td>2.515828</td>\n",
       "      <td>2.488970</td>\n",
       "      <td>4.972088</td>\n",
       "      <td>9.883103</td>\n",
       "      <td>3.329283</td>\n",
       "      <td>10.526371</td>\n",
       "    </tr>\n",
       "  </tbody>\n",
       "</table>\n",
       "<p>2521 rows × 500 columns</p>\n",
       "</div>"
      ],
      "text/plain": [
       "           0         1         2         3         4         5         6    \\\n",
       "0     1.000000  1.000000  1.000000  1.000000  1.000000  1.000000  1.000000   \n",
       "1     0.983927  0.995373  1.015425  0.996223  0.997099  0.994857  1.002105   \n",
       "2     0.981140  0.993147  1.036548  1.007111  1.017225  1.004244  0.996546   \n",
       "3     0.987456  0.985776  1.052073  1.016063  1.014824  0.995875  0.998596   \n",
       "4     0.979683  0.989091  1.032186  0.993500  1.006518  1.016496  1.014366   \n",
       "...        ...       ...       ...       ...       ...       ...       ...   \n",
       "2516  5.340757  3.651650  4.684643  2.900347  3.899407  6.949539  4.855004   \n",
       "2517  5.366986  3.710297  4.681343  2.855848  3.872916  6.956617  4.907196   \n",
       "2518  5.365689  3.753522  4.743217  2.871832  3.841978  6.778779  4.880926   \n",
       "2519  5.418114  3.725055  4.818165  2.869086  3.809096  6.652892  4.939887   \n",
       "2520  5.415224  3.742998  4.785283  2.869041  3.813148  6.669022  4.956936   \n",
       "\n",
       "           7         8         9    ...       490       491       492  \\\n",
       "0     1.000000  1.000000  1.000000  ...  1.000000  1.000000  1.000000   \n",
       "1     0.986589  1.003929  0.992546  ...  1.025350  1.003023  1.001685   \n",
       "2     0.981513  0.991805  0.998997  ...  1.017946  0.997150  1.002633   \n",
       "3     0.970406  0.984919  1.002593  ...  1.014036  0.994625  0.994701   \n",
       "4     0.968841  0.969689  0.995966  ...  1.000817  1.001964  1.008603   \n",
       "...        ...       ...       ...  ...       ...       ...       ...   \n",
       "2516  5.460157  3.874894  4.220371  ...  7.208214  4.613322  5.301129   \n",
       "2517  5.475656  3.899548  4.198644  ...  7.286017  4.528888  5.345803   \n",
       "2518  5.488181  3.835825  4.237232  ...  7.388490  4.528047  5.285826   \n",
       "2519  5.476539  3.769841  4.172463  ...  7.433665  4.555164  5.297321   \n",
       "2520  5.449874  3.770907  4.167405  ...  7.364212  4.493489  5.339112   \n",
       "\n",
       "           493       494       495       496       497       498        499  \n",
       "0     1.000000  1.000000  1.000000  1.000000  1.000000  1.000000   1.000000  \n",
       "1     1.007316  1.022668  0.984495  0.988379  0.984318  1.004996   0.991686  \n",
       "2     0.987580  1.025919  0.970044  0.973637  0.996143  0.986643   0.986946  \n",
       "3     0.987079  1.021899  0.989924  0.976109  1.000665  1.010834   0.970764  \n",
       "4     0.969506  1.012844  0.992645  0.989295  0.995060  0.995401   0.947767  \n",
       "...        ...       ...       ...       ...       ...       ...        ...  \n",
       "2516  3.530600  2.431152  2.464454  5.015062  9.640311  3.343691  10.291212  \n",
       "2517  3.501708  2.419594  2.464192  4.989721  9.569748  3.384284  10.273110  \n",
       "2518  3.494209  2.444614  2.464986  4.959689  9.548873  3.362509  10.440379  \n",
       "2519  3.520353  2.463714  2.483806  5.032200  9.672151  3.342785  10.562295  \n",
       "2520  3.512075  2.515828  2.488970  4.972088  9.883103  3.329283  10.526371  \n",
       "\n",
       "[2521 rows x 500 columns]"
      ]
     },
     "execution_count": 208,
     "metadata": {},
     "output_type": "execute_result"
    }
   ],
   "source": [
    "# Run the Monte Carlo simulation to forecast 10 years cumulative returns\n",
    "ten_years_simulation.calc_cumulative_return()\n"
   ]
  },
  {
   "cell_type": "code",
   "execution_count": 210,
   "metadata": {},
   "outputs": [
    {
     "data": {
      "text/plain": [
       "<AxesSubplot:title={'center':'500 Simulations of Cumulative Portfolio Return Trajectories Over the Next 2520 Trading Days.'}>"
      ]
     },
     "execution_count": 210,
     "metadata": {},
     "output_type": "execute_result"
    },
    {
     "data": {
      "image/png": "[encoded data removed]",
      "text/plain": [
       "<Figure size 432x288 with 1 Axes>"
      ]
     },
     "metadata": {
      "needs_background": "light"
     },
     "output_type": "display_data"
    }
   ],
   "source": [
    "# Visualize the 10-year Monte Carlo simulation by creating an\n",
    "# overlay line plot\n",
    "ten_years_simulation.plot_simulation()\n"
   ]
  },
  {
   "cell_type": "code",
   "execution_count": 211,
   "metadata": {},
   "outputs": [
    {
     "data": {
      "text/plain": [
       "<AxesSubplot:title={'center':'Distribution of Final Cumuluative Returns Across All 500 Simulations'}, ylabel='Frequency'>"
      ]
     },
     "execution_count": 211,
     "metadata": {},
     "output_type": "execute_result"
    },
    {
     "data": {
      "image/png": "[encoded data removed]",
      "text/plain": [
       "<Figure size 432x288 with 1 Axes>"
      ]
     },
     "metadata": {
      "needs_background": "light"
     },
     "output_type": "display_data"
    }
   ],
   "source": [
    "# Visualize the probability distribution of the 10-year Monte Carlo simulation \n",
    "# by plotting a histogram\n",
    "ten_years_simulation.plot_distribution()\n"
   ]
  },
  {
   "cell_type": "code",
   "execution_count": 212,
   "metadata": {},
   "outputs": [
    {
     "data": {
      "text/plain": [
       "count           500.000000\n",
       "mean              5.814413\n",
       "std               3.479791\n",
       "min               1.022442\n",
       "25%               3.376653\n",
       "50%               5.080846\n",
       "75%               7.354989\n",
       "max              24.639412\n",
       "95% CI Lower      1.648779\n",
       "95% CI Upper     14.270950\n",
       "Name: 2520, dtype: float64"
      ]
     },
     "execution_count": 212,
     "metadata": {},
     "output_type": "execute_result"
    }
   ],
   "source": [
    "# Generate summary statistics from the 10-year Monte Carlo simulation results\n",
    "# Save the results as a variable\n",
    "MC_10_years_summary_cumulation = ten_years_simulation.summarize_cumulative_return()\n",
    "\n",
    "\n",
    "# Review the 10-year Monte Carlo summary statistics\n",
    "MC_10_years_summary_cumulation"
   ]
  },
  {
   "cell_type": "markdown",
   "metadata": {},
   "source": [
    "### Answer the following questions:"
   ]
  },
  {
   "cell_type": "markdown",
   "metadata": {},
   "source": [
    "#### Question: Using the current value of only the stock and bond portion of the member's portfolio and the summary statistics that you generated from the new Monte Carlo simulation, what are the lower and upper bounds for the expected value of the portfolio (with the new weights) with a 95% confidence interval?"
   ]
  },
  {
   "cell_type": "code",
   "execution_count": 213,
   "metadata": {},
   "outputs": [
    {
     "name": "stdout",
     "output_type": "stream",
     "text": [
      "The current balance of the stock and bond portfolio is $169,586.03\n"
     ]
    }
   ],
   "source": [
    "# Print the current balance of the stock and bond portion of the members portfolio\n",
    "print(f\"The current balance of the stock and bond portfolio is ${total_portfolio:,.2f}\")\n"
   ]
  },
  {
   "cell_type": "code",
   "execution_count": 214,
   "metadata": {},
   "outputs": [
    {
     "name": "stdout",
     "output_type": "stream",
     "text": [
      "There is a 95% chance that an initial investment of stock/bond in the portfolio over the next year will end within in the range of $122,512.50 and $1,060,402.96.\n"
     ]
    }
   ],
   "source": [
    "# Use the lower and upper `95%` confidence intervals to calculate the range of the possible outcomes for the current stock/bond portfolio\n",
    "ci_lower_ten_cumulative_return = round(MC_10_years_summary_cumulation[8]*total_stocks_bonds,2)\n",
    "ci_upper_ten_cumulative_return =  round(MC_10_years_summary_cumulation[9]*total_stocks_bonds,2)\n",
    "\n",
    "# Print the result of your calculations\n",
    "print(f\"There is a 95% chance that an initial investment of stock/bond in the portfolio\"\n",
    "      f\" over the next year will end within in the range of\"\n",
    "      f\" ${ci_lower_ten_cumulative_return:,.2f} and ${ci_upper_ten_cumulative_return:,.2f}.\")\n"
   ]
  },
  {
   "cell_type": "markdown",
   "metadata": {},
   "source": [
    "#### Question: Will weighting the portfolio more heavily to stocks allow the credit union members to retire after only 10 years?"
   ]
  },
  {
   "cell_type": "raw",
   "metadata": {},
   "source": [
    "**Answer** # it depends on how confortable they want to live and the fund after 10 years will be $1,060,402.96. So, with great budgeting, yes they will be able to retire after 10 years. However starting early and put 30 years in will provide a greater amount for retirement."
   ]
  },
  {
   "cell_type": "code",
   "execution_count": null,
   "metadata": {},
   "outputs": [],
   "source": []
  }
 ],
 "metadata": {
  "kernelspec": {
   "display_name": "Python 3",
   "language": "python",
   "name": "python3"
  },
  "language_info": {
   "codemirror_mode": {
    "name": "ipython",
    "version": 3
   },
   "file_extension": ".py",
   "mimetype": "text/x-python",
   "name": "python",
   "nbconvert_exporter": "python",
   "pygments_lexer": "ipython3",
   "version": "3.7.10"
  }
 },
 "nbformat": 4,
 "nbformat_minor": 4
}
